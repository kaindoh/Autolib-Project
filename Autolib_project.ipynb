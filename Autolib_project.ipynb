{
  "nbformat": 4,
  "nbformat_minor": 0,
  "metadata": {
    "colab": {
      "name": "Autolib project",
      "version": "0.3.2",
      "provenance": [],
      "collapsed_sections": [],
      "include_colab_link": true
    },
    "kernelspec": {
      "display_name": "Python 3",
      "name": "python3"
    }
  },
  "cells": [
    {
      "cell_type": "markdown",
      "metadata": {
        "id": "view-in-github",
        "colab_type": "text"
      },
      "source": [
        "<a href=\"https://colab.research.google.com/github/kaindoh/Autolib-Project/blob/master/Autolib_project.ipynb\" target=\"_parent\"><img src=\"https://colab.research.google.com/assets/colab-badge.svg\" alt=\"Open In Colab\"/></a>"
      ]
    },
    {
      "cell_type": "markdown",
      "metadata": {
        "id": "WeskOOgYuxL6",
        "colab_type": "text"
      },
      "source": [
        "# **`AUTOLIB PROJECT`**\n",
        "\n",
        "\n"
      ]
    },
    {
      "cell_type": "markdown",
      "metadata": {
        "id": "RLSXytSn1_Ws",
        "colab_type": "text"
      },
      "source": [
        "# Problem Statement"
      ]
    },
    {
      "cell_type": "markdown",
      "metadata": {
        "id": "BQLJjwKK2D6k",
        "colab_type": "text"
      },
      "source": [
        "To work as a Data Scientist for the Autolib electric car-sharing service company to investigate a claim about the blue cars from the  Autolib dataset on either weekday or weekend."
      ]
    },
    {
      "cell_type": "markdown",
      "metadata": {
        "id": "o0pJ15hz2phM",
        "colab_type": "text"
      },
      "source": [
        "# Creating the hypothesis"
      ]
    },
    {
      "cell_type": "markdown",
      "metadata": {
        "id": "7MX0PHnx20vO",
        "colab_type": "text"
      },
      "source": [
        "> $H_0 : The Blue Car Are Most Active On Friday More Than Monday$\n",
        "\n",
        "> $H_1 : The Blue Car Are Not Most Active On Friday More Than Monday$"
      ]
    },
    {
      "cell_type": "markdown",
      "metadata": {
        "id": "v9tFvsTBFBBX",
        "colab_type": "text"
      },
      "source": [
        "# Importing libaries and Loading the datasets"
      ]
    },
    {
      "cell_type": "code",
      "metadata": {
        "id": "pXZwhTTfvefr",
        "colab_type": "code",
        "colab": {}
      },
      "source": [
        "#importing relevant files\n",
        "#\n",
        "import pandas as pd\n",
        "import numpy as np\n",
        "import matplotlib.pyplot as plt\n",
        "import seaborn as sns\n",
        "from scipy import stats\n",
        "from statsmodels.stats import weightstats\n",
        "from sklearn.model_selection import train_test_split\n",
        "from sklearn.preprocessing import StandardScaler\n",
        "from sklearn.metrics import confusion_matrix,accuracy_score\n",
        "from sklearn.naive_bayes import GaussianNB\n"
      ],
      "execution_count": 0,
      "outputs": []
    },
    {
      "cell_type": "code",
      "metadata": {
        "id": "J9CjzaWPwpUX",
        "colab_type": "code",
        "outputId": "5eea7a8e-0338-488f-9109-a21b45ac72e3",
        "colab": {
          "base_uri": "https://localhost:8080/",
          "height": 241
        }
      },
      "source": [
        "#loading the actual datasets from url\n",
        "#\n",
        "df = pd.read_csv(\"http://bit.ly/DSCoreAutolibDataset\")\n",
        "df.head()\n"
      ],
      "execution_count": 24,
      "outputs": [
        {
          "output_type": "execute_result",
          "data": {
            "text/html": [
              "<div>\n",
              "<style scoped>\n",
              "    .dataframe tbody tr th:only-of-type {\n",
              "        vertical-align: middle;\n",
              "    }\n",
              "\n",
              "    .dataframe tbody tr th {\n",
              "        vertical-align: top;\n",
              "    }\n",
              "\n",
              "    .dataframe thead th {\n",
              "        text-align: right;\n",
              "    }\n",
              "</style>\n",
              "<table border=\"1\" class=\"dataframe\">\n",
              "  <thead>\n",
              "    <tr style=\"text-align: right;\">\n",
              "      <th></th>\n",
              "      <th>Postal code</th>\n",
              "      <th>date</th>\n",
              "      <th>n_daily_data_points</th>\n",
              "      <th>dayOfWeek</th>\n",
              "      <th>day_type</th>\n",
              "      <th>BlueCars_taken_sum</th>\n",
              "      <th>BlueCars_returned_sum</th>\n",
              "      <th>Utilib_taken_sum</th>\n",
              "      <th>Utilib_returned_sum</th>\n",
              "      <th>Utilib_14_taken_sum</th>\n",
              "      <th>Utilib_14_returned_sum</th>\n",
              "      <th>Slots_freed_sum</th>\n",
              "      <th>Slots_taken_sum</th>\n",
              "    </tr>\n",
              "  </thead>\n",
              "  <tbody>\n",
              "    <tr>\n",
              "      <th>0</th>\n",
              "      <td>75001</td>\n",
              "      <td>1/1/2018</td>\n",
              "      <td>1440</td>\n",
              "      <td>0</td>\n",
              "      <td>weekday</td>\n",
              "      <td>110</td>\n",
              "      <td>103</td>\n",
              "      <td>3</td>\n",
              "      <td>2</td>\n",
              "      <td>10</td>\n",
              "      <td>9</td>\n",
              "      <td>22</td>\n",
              "      <td>20</td>\n",
              "    </tr>\n",
              "    <tr>\n",
              "      <th>1</th>\n",
              "      <td>75001</td>\n",
              "      <td>1/2/2018</td>\n",
              "      <td>1438</td>\n",
              "      <td>1</td>\n",
              "      <td>weekday</td>\n",
              "      <td>98</td>\n",
              "      <td>94</td>\n",
              "      <td>1</td>\n",
              "      <td>1</td>\n",
              "      <td>8</td>\n",
              "      <td>8</td>\n",
              "      <td>23</td>\n",
              "      <td>22</td>\n",
              "    </tr>\n",
              "    <tr>\n",
              "      <th>2</th>\n",
              "      <td>75001</td>\n",
              "      <td>1/3/2018</td>\n",
              "      <td>1439</td>\n",
              "      <td>2</td>\n",
              "      <td>weekday</td>\n",
              "      <td>138</td>\n",
              "      <td>139</td>\n",
              "      <td>0</td>\n",
              "      <td>0</td>\n",
              "      <td>2</td>\n",
              "      <td>2</td>\n",
              "      <td>27</td>\n",
              "      <td>27</td>\n",
              "    </tr>\n",
              "    <tr>\n",
              "      <th>3</th>\n",
              "      <td>75001</td>\n",
              "      <td>1/4/2018</td>\n",
              "      <td>1320</td>\n",
              "      <td>3</td>\n",
              "      <td>weekday</td>\n",
              "      <td>104</td>\n",
              "      <td>104</td>\n",
              "      <td>2</td>\n",
              "      <td>2</td>\n",
              "      <td>9</td>\n",
              "      <td>8</td>\n",
              "      <td>25</td>\n",
              "      <td>21</td>\n",
              "    </tr>\n",
              "    <tr>\n",
              "      <th>4</th>\n",
              "      <td>75001</td>\n",
              "      <td>1/5/2018</td>\n",
              "      <td>1440</td>\n",
              "      <td>4</td>\n",
              "      <td>weekday</td>\n",
              "      <td>114</td>\n",
              "      <td>117</td>\n",
              "      <td>3</td>\n",
              "      <td>3</td>\n",
              "      <td>6</td>\n",
              "      <td>6</td>\n",
              "      <td>18</td>\n",
              "      <td>20</td>\n",
              "    </tr>\n",
              "  </tbody>\n",
              "</table>\n",
              "</div>"
            ],
            "text/plain": [
              "   Postal code      date  ...  Slots_freed_sum  Slots_taken_sum\n",
              "0        75001  1/1/2018  ...               22               20\n",
              "1        75001  1/2/2018  ...               23               22\n",
              "2        75001  1/3/2018  ...               27               27\n",
              "3        75001  1/4/2018  ...               25               21\n",
              "4        75001  1/5/2018  ...               18               20\n",
              "\n",
              "[5 rows x 13 columns]"
            ]
          },
          "metadata": {
            "tags": []
          },
          "execution_count": 24
        }
      ]
    },
    {
      "cell_type": "code",
      "metadata": {
        "id": "mxGCT1L8uraq",
        "colab_type": "code",
        "outputId": "f6636820-580b-4d42-d35c-d0d8d30a0d65",
        "colab": {
          "base_uri": "https://localhost:8080/",
          "height": 452
        }
      },
      "source": [
        "#loding the dataset that has the explanation of the dataset\n",
        "#\n",
        "descr = pd.read_excel(\"columns_explanation (1).xlsx\")\n",
        "descr"
      ],
      "execution_count": 25,
      "outputs": [
        {
          "output_type": "execute_result",
          "data": {
            "text/html": [
              "<div>\n",
              "<style scoped>\n",
              "    .dataframe tbody tr th:only-of-type {\n",
              "        vertical-align: middle;\n",
              "    }\n",
              "\n",
              "    .dataframe tbody tr th {\n",
              "        vertical-align: top;\n",
              "    }\n",
              "\n",
              "    .dataframe thead th {\n",
              "        text-align: right;\n",
              "    }\n",
              "</style>\n",
              "<table border=\"1\" class=\"dataframe\">\n",
              "  <thead>\n",
              "    <tr style=\"text-align: right;\">\n",
              "      <th></th>\n",
              "      <th>Column name</th>\n",
              "      <th>explanation</th>\n",
              "    </tr>\n",
              "  </thead>\n",
              "  <tbody>\n",
              "    <tr>\n",
              "      <th>0</th>\n",
              "      <td>Postal code</td>\n",
              "      <td>postal code of the area (in Paris)</td>\n",
              "    </tr>\n",
              "    <tr>\n",
              "      <th>1</th>\n",
              "      <td>date</td>\n",
              "      <td>date of the row aggregation</td>\n",
              "    </tr>\n",
              "    <tr>\n",
              "      <th>2</th>\n",
              "      <td>n_daily_data_points</td>\n",
              "      <td>number of daily data poinst that were availabl...</td>\n",
              "    </tr>\n",
              "    <tr>\n",
              "      <th>3</th>\n",
              "      <td>dayOfWeek</td>\n",
              "      <td>identifier of weekday (0: Monday -&gt; 6: Sunday)</td>\n",
              "    </tr>\n",
              "    <tr>\n",
              "      <th>4</th>\n",
              "      <td>day_type</td>\n",
              "      <td>weekday or weekend</td>\n",
              "    </tr>\n",
              "    <tr>\n",
              "      <th>5</th>\n",
              "      <td>BlueCars_taken_sum</td>\n",
              "      <td>Number of bluecars taken that date in that area</td>\n",
              "    </tr>\n",
              "    <tr>\n",
              "      <th>6</th>\n",
              "      <td>BlueCars_returned_sum</td>\n",
              "      <td>Number of bluecars returned that date in that ...</td>\n",
              "    </tr>\n",
              "    <tr>\n",
              "      <th>7</th>\n",
              "      <td>Utilib_taken_sum</td>\n",
              "      <td>Number of Utilib taken that date in that area</td>\n",
              "    </tr>\n",
              "    <tr>\n",
              "      <th>8</th>\n",
              "      <td>Utilib_returned_sum</td>\n",
              "      <td>Number of Utilib returned that date in that area</td>\n",
              "    </tr>\n",
              "    <tr>\n",
              "      <th>9</th>\n",
              "      <td>Utilib_14_taken_sum</td>\n",
              "      <td>Number of Utilib 1.4 taken that date in that area</td>\n",
              "    </tr>\n",
              "    <tr>\n",
              "      <th>10</th>\n",
              "      <td>Utilib_14_returned_sum</td>\n",
              "      <td>Number of Utilib 1.4 returned that date in tha...</td>\n",
              "    </tr>\n",
              "    <tr>\n",
              "      <th>11</th>\n",
              "      <td>Slots_freed_sum</td>\n",
              "      <td>Number of recharging slots released that date ...</td>\n",
              "    </tr>\n",
              "    <tr>\n",
              "      <th>12</th>\n",
              "      <td>Slots_taken_sum</td>\n",
              "      <td>Number of rechargign slots taken that date in ...</td>\n",
              "    </tr>\n",
              "  </tbody>\n",
              "</table>\n",
              "</div>"
            ],
            "text/plain": [
              "               Column name                                        explanation\n",
              "0              Postal code                 postal code of the area (in Paris)\n",
              "1                     date                        date of the row aggregation\n",
              "2      n_daily_data_points  number of daily data poinst that were availabl...\n",
              "3                dayOfWeek     identifier of weekday (0: Monday -> 6: Sunday)\n",
              "4                 day_type                                 weekday or weekend\n",
              "5       BlueCars_taken_sum    Number of bluecars taken that date in that area\n",
              "6    BlueCars_returned_sum  Number of bluecars returned that date in that ...\n",
              "7         Utilib_taken_sum      Number of Utilib taken that date in that area\n",
              "8      Utilib_returned_sum   Number of Utilib returned that date in that area\n",
              "9      Utilib_14_taken_sum  Number of Utilib 1.4 taken that date in that area\n",
              "10  Utilib_14_returned_sum  Number of Utilib 1.4 returned that date in tha...\n",
              "11         Slots_freed_sum  Number of recharging slots released that date ...\n",
              "12         Slots_taken_sum  Number of rechargign slots taken that date in ..."
            ]
          },
          "metadata": {
            "tags": []
          },
          "execution_count": 25
        }
      ]
    },
    {
      "cell_type": "code",
      "metadata": {
        "id": "eQ1hFa2MCf_Q",
        "colab_type": "code",
        "colab": {}
      },
      "source": [
        ""
      ],
      "execution_count": 0,
      "outputs": []
    },
    {
      "cell_type": "markdown",
      "metadata": {
        "id": "Nc4tsl7SFVEz",
        "colab_type": "text"
      },
      "source": [
        "# Understanding the Dataset"
      ]
    },
    {
      "cell_type": "code",
      "metadata": {
        "id": "tbpSWqDgDHSR",
        "colab_type": "code",
        "colab": {
          "base_uri": "https://localhost:8080/",
          "height": 34
        },
        "outputId": "d29dc309-628c-4497-e101-a6344a193f1d"
      },
      "source": [
        "#Getting rows and columns\n",
        "#\n",
        "df.shape"
      ],
      "execution_count": 70,
      "outputs": [
        {
          "output_type": "execute_result",
          "data": {
            "text/plain": [
              "(4645, 12)"
            ]
          },
          "metadata": {
            "tags": []
          },
          "execution_count": 70
        }
      ]
    },
    {
      "cell_type": "code",
      "metadata": {
        "id": "mcNLSQfAurdi",
        "colab_type": "code",
        "outputId": "9aa8bf91-b2a6-4a0d-aea0-417031d9c0e9",
        "colab": {
          "base_uri": "https://localhost:8080/",
          "height": 323
        }
      },
      "source": [
        "#Getting the detailed information of the data\n",
        "#\n",
        "df.info()"
      ],
      "execution_count": 26,
      "outputs": [
        {
          "output_type": "stream",
          "text": [
            "<class 'pandas.core.frame.DataFrame'>\n",
            "RangeIndex: 16085 entries, 0 to 16084\n",
            "Data columns (total 13 columns):\n",
            "Postal code               16085 non-null int64\n",
            "date                      16085 non-null object\n",
            "n_daily_data_points       16085 non-null int64\n",
            "dayOfWeek                 16085 non-null int64\n",
            "day_type                  16085 non-null object\n",
            "BlueCars_taken_sum        16085 non-null int64\n",
            "BlueCars_returned_sum     16085 non-null int64\n",
            "Utilib_taken_sum          16085 non-null int64\n",
            "Utilib_returned_sum       16085 non-null int64\n",
            "Utilib_14_taken_sum       16085 non-null int64\n",
            "Utilib_14_returned_sum    16085 non-null int64\n",
            "Slots_freed_sum           16085 non-null int64\n",
            "Slots_taken_sum           16085 non-null int64\n",
            "dtypes: int64(11), object(2)\n",
            "memory usage: 1.6+ MB\n"
          ],
          "name": "stdout"
        }
      ]
    },
    {
      "cell_type": "code",
      "metadata": {
        "id": "ufQYk69Muris",
        "colab_type": "code",
        "outputId": "61ba18f2-0ea7-413c-ce82-58d8720b7859",
        "colab": {
          "base_uri": "https://localhost:8080/",
          "height": 317
        }
      },
      "source": [
        "#Getting the statistical overview of the columns\n",
        "#\n",
        "df.describe()"
      ],
      "execution_count": 27,
      "outputs": [
        {
          "output_type": "execute_result",
          "data": {
            "text/html": [
              "<div>\n",
              "<style scoped>\n",
              "    .dataframe tbody tr th:only-of-type {\n",
              "        vertical-align: middle;\n",
              "    }\n",
              "\n",
              "    .dataframe tbody tr th {\n",
              "        vertical-align: top;\n",
              "    }\n",
              "\n",
              "    .dataframe thead th {\n",
              "        text-align: right;\n",
              "    }\n",
              "</style>\n",
              "<table border=\"1\" class=\"dataframe\">\n",
              "  <thead>\n",
              "    <tr style=\"text-align: right;\">\n",
              "      <th></th>\n",
              "      <th>Postal code</th>\n",
              "      <th>n_daily_data_points</th>\n",
              "      <th>dayOfWeek</th>\n",
              "      <th>BlueCars_taken_sum</th>\n",
              "      <th>BlueCars_returned_sum</th>\n",
              "      <th>Utilib_taken_sum</th>\n",
              "      <th>Utilib_returned_sum</th>\n",
              "      <th>Utilib_14_taken_sum</th>\n",
              "      <th>Utilib_14_returned_sum</th>\n",
              "      <th>Slots_freed_sum</th>\n",
              "      <th>Slots_taken_sum</th>\n",
              "    </tr>\n",
              "  </thead>\n",
              "  <tbody>\n",
              "    <tr>\n",
              "      <th>count</th>\n",
              "      <td>16085.000000</td>\n",
              "      <td>16085.000000</td>\n",
              "      <td>16085.000000</td>\n",
              "      <td>16085.000000</td>\n",
              "      <td>16085.000000</td>\n",
              "      <td>16085.000000</td>\n",
              "      <td>16085.000000</td>\n",
              "      <td>16085.000000</td>\n",
              "      <td>16085.000000</td>\n",
              "      <td>16085.000000</td>\n",
              "      <td>16085.000000</td>\n",
              "    </tr>\n",
              "    <tr>\n",
              "      <th>mean</th>\n",
              "      <td>88791.293876</td>\n",
              "      <td>1431.330619</td>\n",
              "      <td>2.969599</td>\n",
              "      <td>125.926951</td>\n",
              "      <td>125.912714</td>\n",
              "      <td>3.698290</td>\n",
              "      <td>3.699099</td>\n",
              "      <td>8.600560</td>\n",
              "      <td>8.599192</td>\n",
              "      <td>22.629033</td>\n",
              "      <td>22.629282</td>\n",
              "    </tr>\n",
              "    <tr>\n",
              "      <th>std</th>\n",
              "      <td>7647.342000</td>\n",
              "      <td>33.212050</td>\n",
              "      <td>2.008378</td>\n",
              "      <td>185.426579</td>\n",
              "      <td>185.501535</td>\n",
              "      <td>5.815058</td>\n",
              "      <td>5.824634</td>\n",
              "      <td>12.870098</td>\n",
              "      <td>12.868993</td>\n",
              "      <td>52.120263</td>\n",
              "      <td>52.146030</td>\n",
              "    </tr>\n",
              "    <tr>\n",
              "      <th>min</th>\n",
              "      <td>75001.000000</td>\n",
              "      <td>1174.000000</td>\n",
              "      <td>0.000000</td>\n",
              "      <td>0.000000</td>\n",
              "      <td>0.000000</td>\n",
              "      <td>0.000000</td>\n",
              "      <td>0.000000</td>\n",
              "      <td>0.000000</td>\n",
              "      <td>0.000000</td>\n",
              "      <td>0.000000</td>\n",
              "      <td>0.000000</td>\n",
              "    </tr>\n",
              "    <tr>\n",
              "      <th>25%</th>\n",
              "      <td>91330.000000</td>\n",
              "      <td>1439.000000</td>\n",
              "      <td>1.000000</td>\n",
              "      <td>20.000000</td>\n",
              "      <td>20.000000</td>\n",
              "      <td>0.000000</td>\n",
              "      <td>0.000000</td>\n",
              "      <td>1.000000</td>\n",
              "      <td>1.000000</td>\n",
              "      <td>0.000000</td>\n",
              "      <td>0.000000</td>\n",
              "    </tr>\n",
              "    <tr>\n",
              "      <th>50%</th>\n",
              "      <td>92340.000000</td>\n",
              "      <td>1440.000000</td>\n",
              "      <td>3.000000</td>\n",
              "      <td>46.000000</td>\n",
              "      <td>46.000000</td>\n",
              "      <td>1.000000</td>\n",
              "      <td>1.000000</td>\n",
              "      <td>3.000000</td>\n",
              "      <td>3.000000</td>\n",
              "      <td>0.000000</td>\n",
              "      <td>0.000000</td>\n",
              "    </tr>\n",
              "    <tr>\n",
              "      <th>75%</th>\n",
              "      <td>93400.000000</td>\n",
              "      <td>1440.000000</td>\n",
              "      <td>5.000000</td>\n",
              "      <td>135.000000</td>\n",
              "      <td>135.000000</td>\n",
              "      <td>4.000000</td>\n",
              "      <td>4.000000</td>\n",
              "      <td>10.000000</td>\n",
              "      <td>10.000000</td>\n",
              "      <td>5.000000</td>\n",
              "      <td>5.000000</td>\n",
              "    </tr>\n",
              "    <tr>\n",
              "      <th>max</th>\n",
              "      <td>95880.000000</td>\n",
              "      <td>1440.000000</td>\n",
              "      <td>6.000000</td>\n",
              "      <td>1352.000000</td>\n",
              "      <td>1332.000000</td>\n",
              "      <td>54.000000</td>\n",
              "      <td>58.000000</td>\n",
              "      <td>100.000000</td>\n",
              "      <td>101.000000</td>\n",
              "      <td>360.000000</td>\n",
              "      <td>359.000000</td>\n",
              "    </tr>\n",
              "  </tbody>\n",
              "</table>\n",
              "</div>"
            ],
            "text/plain": [
              "        Postal code  n_daily_data_points  ...  Slots_freed_sum  Slots_taken_sum\n",
              "count  16085.000000         16085.000000  ...     16085.000000     16085.000000\n",
              "mean   88791.293876          1431.330619  ...        22.629033        22.629282\n",
              "std     7647.342000            33.212050  ...        52.120263        52.146030\n",
              "min    75001.000000          1174.000000  ...         0.000000         0.000000\n",
              "25%    91330.000000          1439.000000  ...         0.000000         0.000000\n",
              "50%    92340.000000          1440.000000  ...         0.000000         0.000000\n",
              "75%    93400.000000          1440.000000  ...         5.000000         5.000000\n",
              "max    95880.000000          1440.000000  ...       360.000000       359.000000\n",
              "\n",
              "[8 rows x 11 columns]"
            ]
          },
          "metadata": {
            "tags": []
          },
          "execution_count": 27
        }
      ]
    },
    {
      "cell_type": "code",
      "metadata": {
        "id": "fr_egqFUurlj",
        "colab_type": "code",
        "outputId": "6e4ce1cf-1d87-464e-da0c-3243e0f59123",
        "colab": {
          "base_uri": "https://localhost:8080/",
          "height": 122
        }
      },
      "source": [
        "#Getting the name of the columns\n",
        "#\n",
        "df.columns"
      ],
      "execution_count": 28,
      "outputs": [
        {
          "output_type": "execute_result",
          "data": {
            "text/plain": [
              "Index(['Postal code', 'date', 'n_daily_data_points', 'dayOfWeek', 'day_type',\n",
              "       'BlueCars_taken_sum', 'BlueCars_returned_sum', 'Utilib_taken_sum',\n",
              "       'Utilib_returned_sum', 'Utilib_14_taken_sum', 'Utilib_14_returned_sum',\n",
              "       'Slots_freed_sum', 'Slots_taken_sum'],\n",
              "      dtype='object')"
            ]
          },
          "metadata": {
            "tags": []
          },
          "execution_count": 28
        }
      ]
    },
    {
      "cell_type": "markdown",
      "metadata": {
        "id": "8IoPCTuhFhh-",
        "colab_type": "text"
      },
      "source": [
        "# Data Cleaning"
      ]
    },
    {
      "cell_type": "code",
      "metadata": {
        "id": "0ib4KLNpFtlL",
        "colab_type": "code",
        "outputId": "6898323f-5e29-4af4-a12a-e5aeede0b396",
        "colab": {
          "base_uri": "https://localhost:8080/",
          "height": 255
        }
      },
      "source": [
        "#Checking for missing values\n",
        "#\n",
        "df.isnull().sum()"
      ],
      "execution_count": 29,
      "outputs": [
        {
          "output_type": "execute_result",
          "data": {
            "text/plain": [
              "Postal code               0\n",
              "date                      0\n",
              "n_daily_data_points       0\n",
              "dayOfWeek                 0\n",
              "day_type                  0\n",
              "BlueCars_taken_sum        0\n",
              "BlueCars_returned_sum     0\n",
              "Utilib_taken_sum          0\n",
              "Utilib_returned_sum       0\n",
              "Utilib_14_taken_sum       0\n",
              "Utilib_14_returned_sum    0\n",
              "Slots_freed_sum           0\n",
              "Slots_taken_sum           0\n",
              "dtype: int64"
            ]
          },
          "metadata": {
            "tags": []
          },
          "execution_count": 29
        }
      ]
    },
    {
      "cell_type": "markdown",
      "metadata": {
        "id": "8hVi3RpwF-7e",
        "colab_type": "text"
      },
      "source": [
        "There are no missing values"
      ]
    },
    {
      "cell_type": "code",
      "metadata": {
        "id": "oLEjtDjaF9uR",
        "colab_type": "code",
        "outputId": "f6542131-e4eb-4c38-eadd-0e546519ffe8",
        "colab": {
          "base_uri": "https://localhost:8080/",
          "height": 34
        }
      },
      "source": [
        "#Checking for duplicates\n",
        "#\n",
        "df.duplicated().any()"
      ],
      "execution_count": 30,
      "outputs": [
        {
          "output_type": "execute_result",
          "data": {
            "text/plain": [
              "False"
            ]
          },
          "metadata": {
            "tags": []
          },
          "execution_count": 30
        }
      ]
    },
    {
      "cell_type": "markdown",
      "metadata": {
        "id": "X7RdXznYGY93",
        "colab_type": "text"
      },
      "source": [
        "There are no duplicates"
      ]
    },
    {
      "cell_type": "code",
      "metadata": {
        "id": "W33lcroEGWmm",
        "colab_type": "code",
        "outputId": "c078249d-f329-4ab8-8bb9-758bf39bfaa6",
        "colab": {
          "base_uri": "https://localhost:8080/",
          "height": 122
        }
      },
      "source": [
        "#Making the column names uniform\n",
        "#\n",
        "df.columns = df.columns.str.lower().str.replace(' ','_')\n",
        "df.columns"
      ],
      "execution_count": 31,
      "outputs": [
        {
          "output_type": "execute_result",
          "data": {
            "text/plain": [
              "Index(['postal_code', 'date', 'n_daily_data_points', 'dayofweek', 'day_type',\n",
              "       'bluecars_taken_sum', 'bluecars_returned_sum', 'utilib_taken_sum',\n",
              "       'utilib_returned_sum', 'utilib_14_taken_sum', 'utilib_14_returned_sum',\n",
              "       'slots_freed_sum', 'slots_taken_sum'],\n",
              "      dtype='object')"
            ]
          },
          "metadata": {
            "tags": []
          },
          "execution_count": 31
        }
      ]
    },
    {
      "cell_type": "markdown",
      "metadata": {
        "id": "YnD5Dy54G34A",
        "colab_type": "text"
      },
      "source": [
        "Removing white space and converting to lower case"
      ]
    },
    {
      "cell_type": "code",
      "metadata": {
        "id": "GcgpAwDkFvqH",
        "colab_type": "code",
        "outputId": "26435ee5-8f91-4d6d-85ae-68a3a26362d9",
        "colab": {
          "base_uri": "https://localhost:8080/",
          "height": 100
        }
      },
      "source": [
        "#confirming that the columns have actually been dropped\n",
        "#\n",
        "df.head(1)"
      ],
      "execution_count": 32,
      "outputs": [
        {
          "output_type": "execute_result",
          "data": {
            "text/html": [
              "<div>\n",
              "<style scoped>\n",
              "    .dataframe tbody tr th:only-of-type {\n",
              "        vertical-align: middle;\n",
              "    }\n",
              "\n",
              "    .dataframe tbody tr th {\n",
              "        vertical-align: top;\n",
              "    }\n",
              "\n",
              "    .dataframe thead th {\n",
              "        text-align: right;\n",
              "    }\n",
              "</style>\n",
              "<table border=\"1\" class=\"dataframe\">\n",
              "  <thead>\n",
              "    <tr style=\"text-align: right;\">\n",
              "      <th></th>\n",
              "      <th>postal_code</th>\n",
              "      <th>date</th>\n",
              "      <th>n_daily_data_points</th>\n",
              "      <th>dayofweek</th>\n",
              "      <th>day_type</th>\n",
              "      <th>bluecars_taken_sum</th>\n",
              "      <th>bluecars_returned_sum</th>\n",
              "      <th>utilib_taken_sum</th>\n",
              "      <th>utilib_returned_sum</th>\n",
              "      <th>utilib_14_taken_sum</th>\n",
              "      <th>utilib_14_returned_sum</th>\n",
              "      <th>slots_freed_sum</th>\n",
              "      <th>slots_taken_sum</th>\n",
              "    </tr>\n",
              "  </thead>\n",
              "  <tbody>\n",
              "    <tr>\n",
              "      <th>0</th>\n",
              "      <td>75001</td>\n",
              "      <td>1/1/2018</td>\n",
              "      <td>1440</td>\n",
              "      <td>0</td>\n",
              "      <td>weekday</td>\n",
              "      <td>110</td>\n",
              "      <td>103</td>\n",
              "      <td>3</td>\n",
              "      <td>2</td>\n",
              "      <td>10</td>\n",
              "      <td>9</td>\n",
              "      <td>22</td>\n",
              "      <td>20</td>\n",
              "    </tr>\n",
              "  </tbody>\n",
              "</table>\n",
              "</div>"
            ],
            "text/plain": [
              "   postal_code      date  ...  slots_freed_sum  slots_taken_sum\n",
              "0        75001  1/1/2018  ...               22               20\n",
              "\n",
              "[1 rows x 13 columns]"
            ]
          },
          "metadata": {
            "tags": []
          },
          "execution_count": 32
        }
      ]
    },
    {
      "cell_type": "code",
      "metadata": {
        "id": "ekYyn-eMFvnP",
        "colab_type": "code",
        "outputId": "f9ca6ace-b4fd-4de7-ffba-7a5fa440a9af",
        "colab": {
          "base_uri": "https://localhost:8080/",
          "height": 379
        }
      },
      "source": [
        "#Based on the problem statement we only require data that is for weekday only\n",
        "#Therefore i filter the dataset to weekday only\n",
        "df = df[df['day_type'] == 'weekday']\n",
        "\n",
        "\n",
        "#Taking a sample of 10 using simple random sampling to actually confirm tht the data is for weekday only\n",
        "df.sample(10)"
      ],
      "execution_count": 33,
      "outputs": [
        {
          "output_type": "execute_result",
          "data": {
            "text/html": [
              "<div>\n",
              "<style scoped>\n",
              "    .dataframe tbody tr th:only-of-type {\n",
              "        vertical-align: middle;\n",
              "    }\n",
              "\n",
              "    .dataframe tbody tr th {\n",
              "        vertical-align: top;\n",
              "    }\n",
              "\n",
              "    .dataframe thead th {\n",
              "        text-align: right;\n",
              "    }\n",
              "</style>\n",
              "<table border=\"1\" class=\"dataframe\">\n",
              "  <thead>\n",
              "    <tr style=\"text-align: right;\">\n",
              "      <th></th>\n",
              "      <th>postal_code</th>\n",
              "      <th>date</th>\n",
              "      <th>n_daily_data_points</th>\n",
              "      <th>dayofweek</th>\n",
              "      <th>day_type</th>\n",
              "      <th>bluecars_taken_sum</th>\n",
              "      <th>bluecars_returned_sum</th>\n",
              "      <th>utilib_taken_sum</th>\n",
              "      <th>utilib_returned_sum</th>\n",
              "      <th>utilib_14_taken_sum</th>\n",
              "      <th>utilib_14_returned_sum</th>\n",
              "      <th>slots_freed_sum</th>\n",
              "      <th>slots_taken_sum</th>\n",
              "    </tr>\n",
              "  </thead>\n",
              "  <tbody>\n",
              "    <tr>\n",
              "      <th>9868</th>\n",
              "      <td>92800</td>\n",
              "      <td>3/2/2018</td>\n",
              "      <td>1440</td>\n",
              "      <td>4</td>\n",
              "      <td>weekday</td>\n",
              "      <td>92</td>\n",
              "      <td>82</td>\n",
              "      <td>1</td>\n",
              "      <td>1</td>\n",
              "      <td>3</td>\n",
              "      <td>4</td>\n",
              "      <td>12</td>\n",
              "      <td>12</td>\n",
              "    </tr>\n",
              "    <tr>\n",
              "      <th>14271</th>\n",
              "      <td>94220</td>\n",
              "      <td>3/2/2018</td>\n",
              "      <td>1440</td>\n",
              "      <td>4</td>\n",
              "      <td>weekday</td>\n",
              "      <td>41</td>\n",
              "      <td>45</td>\n",
              "      <td>0</td>\n",
              "      <td>0</td>\n",
              "      <td>1</td>\n",
              "      <td>2</td>\n",
              "      <td>0</td>\n",
              "      <td>0</td>\n",
              "    </tr>\n",
              "    <tr>\n",
              "      <th>6883</th>\n",
              "      <td>92260</td>\n",
              "      <td>1/23/2018</td>\n",
              "      <td>1439</td>\n",
              "      <td>1</td>\n",
              "      <td>weekday</td>\n",
              "      <td>28</td>\n",
              "      <td>30</td>\n",
              "      <td>0</td>\n",
              "      <td>0</td>\n",
              "      <td>2</td>\n",
              "      <td>3</td>\n",
              "      <td>0</td>\n",
              "      <td>0</td>\n",
              "    </tr>\n",
              "    <tr>\n",
              "      <th>15805</th>\n",
              "      <td>95870</td>\n",
              "      <td>2/2/2018</td>\n",
              "      <td>1440</td>\n",
              "      <td>4</td>\n",
              "      <td>weekday</td>\n",
              "      <td>18</td>\n",
              "      <td>18</td>\n",
              "      <td>0</td>\n",
              "      <td>0</td>\n",
              "      <td>1</td>\n",
              "      <td>1</td>\n",
              "      <td>0</td>\n",
              "      <td>0</td>\n",
              "    </tr>\n",
              "    <tr>\n",
              "      <th>1228</th>\n",
              "      <td>75008</td>\n",
              "      <td>5/31/2018</td>\n",
              "      <td>1411</td>\n",
              "      <td>3</td>\n",
              "      <td>weekday</td>\n",
              "      <td>484</td>\n",
              "      <td>481</td>\n",
              "      <td>13</td>\n",
              "      <td>13</td>\n",
              "      <td>32</td>\n",
              "      <td>32</td>\n",
              "      <td>161</td>\n",
              "      <td>159</td>\n",
              "    </tr>\n",
              "    <tr>\n",
              "      <th>12307</th>\n",
              "      <td>93440</td>\n",
              "      <td>5/3/2018</td>\n",
              "      <td>1439</td>\n",
              "      <td>3</td>\n",
              "      <td>weekday</td>\n",
              "      <td>3</td>\n",
              "      <td>3</td>\n",
              "      <td>0</td>\n",
              "      <td>0</td>\n",
              "      <td>0</td>\n",
              "      <td>0</td>\n",
              "      <td>0</td>\n",
              "      <td>0</td>\n",
              "    </tr>\n",
              "    <tr>\n",
              "      <th>5035</th>\n",
              "      <td>92130</td>\n",
              "      <td>2/16/2018</td>\n",
              "      <td>1439</td>\n",
              "      <td>4</td>\n",
              "      <td>weekday</td>\n",
              "      <td>283</td>\n",
              "      <td>288</td>\n",
              "      <td>5</td>\n",
              "      <td>4</td>\n",
              "      <td>13</td>\n",
              "      <td>14</td>\n",
              "      <td>6</td>\n",
              "      <td>7</td>\n",
              "    </tr>\n",
              "    <tr>\n",
              "      <th>6118</th>\n",
              "      <td>92210</td>\n",
              "      <td>2/7/2018</td>\n",
              "      <td>1439</td>\n",
              "      <td>2</td>\n",
              "      <td>weekday</td>\n",
              "      <td>64</td>\n",
              "      <td>66</td>\n",
              "      <td>6</td>\n",
              "      <td>8</td>\n",
              "      <td>4</td>\n",
              "      <td>4</td>\n",
              "      <td>2</td>\n",
              "      <td>3</td>\n",
              "    </tr>\n",
              "    <tr>\n",
              "      <th>2460</th>\n",
              "      <td>75016</td>\n",
              "      <td>5/4/2018</td>\n",
              "      <td>1435</td>\n",
              "      <td>4</td>\n",
              "      <td>weekday</td>\n",
              "      <td>801</td>\n",
              "      <td>804</td>\n",
              "      <td>32</td>\n",
              "      <td>32</td>\n",
              "      <td>56</td>\n",
              "      <td>52</td>\n",
              "      <td>216</td>\n",
              "      <td>216</td>\n",
              "    </tr>\n",
              "    <tr>\n",
              "      <th>5094</th>\n",
              "      <td>92130</td>\n",
              "      <td>4/19/2018</td>\n",
              "      <td>1203</td>\n",
              "      <td>3</td>\n",
              "      <td>weekday</td>\n",
              "      <td>217</td>\n",
              "      <td>241</td>\n",
              "      <td>4</td>\n",
              "      <td>10</td>\n",
              "      <td>14</td>\n",
              "      <td>16</td>\n",
              "      <td>3</td>\n",
              "      <td>3</td>\n",
              "    </tr>\n",
              "  </tbody>\n",
              "</table>\n",
              "</div>"
            ],
            "text/plain": [
              "       postal_code       date  ...  slots_freed_sum  slots_taken_sum\n",
              "9868         92800   3/2/2018  ...               12               12\n",
              "14271        94220   3/2/2018  ...                0                0\n",
              "6883         92260  1/23/2018  ...                0                0\n",
              "15805        95870   2/2/2018  ...                0                0\n",
              "1228         75008  5/31/2018  ...              161              159\n",
              "12307        93440   5/3/2018  ...                0                0\n",
              "5035         92130  2/16/2018  ...                6                7\n",
              "6118         92210   2/7/2018  ...                2                3\n",
              "2460         75016   5/4/2018  ...              216              216\n",
              "5094         92130  4/19/2018  ...                3                3\n",
              "\n",
              "[10 rows x 13 columns]"
            ]
          },
          "metadata": {
            "tags": []
          },
          "execution_count": 33
        }
      ]
    },
    {
      "cell_type": "code",
      "metadata": {
        "id": "3vMHbo8mhLP-",
        "colab_type": "code",
        "colab": {}
      },
      "source": [
        "#dropping the daytype because its no longer useful\n",
        "#\n",
        "df.drop('day_type',axis=1,inplace=True)"
      ],
      "execution_count": 0,
      "outputs": []
    },
    {
      "cell_type": "code",
      "metadata": {
        "id": "kMxV9UPW4Y-m",
        "colab_type": "code",
        "outputId": "ae401ead-3c8e-4560-da72-0f6b685dcd0b",
        "colab": {
          "base_uri": "https://localhost:8080/",
          "height": 224
        }
      },
      "source": [
        "df.head()"
      ],
      "execution_count": 35,
      "outputs": [
        {
          "output_type": "execute_result",
          "data": {
            "text/html": [
              "<div>\n",
              "<style scoped>\n",
              "    .dataframe tbody tr th:only-of-type {\n",
              "        vertical-align: middle;\n",
              "    }\n",
              "\n",
              "    .dataframe tbody tr th {\n",
              "        vertical-align: top;\n",
              "    }\n",
              "\n",
              "    .dataframe thead th {\n",
              "        text-align: right;\n",
              "    }\n",
              "</style>\n",
              "<table border=\"1\" class=\"dataframe\">\n",
              "  <thead>\n",
              "    <tr style=\"text-align: right;\">\n",
              "      <th></th>\n",
              "      <th>postal_code</th>\n",
              "      <th>date</th>\n",
              "      <th>n_daily_data_points</th>\n",
              "      <th>dayofweek</th>\n",
              "      <th>bluecars_taken_sum</th>\n",
              "      <th>bluecars_returned_sum</th>\n",
              "      <th>utilib_taken_sum</th>\n",
              "      <th>utilib_returned_sum</th>\n",
              "      <th>utilib_14_taken_sum</th>\n",
              "      <th>utilib_14_returned_sum</th>\n",
              "      <th>slots_freed_sum</th>\n",
              "      <th>slots_taken_sum</th>\n",
              "    </tr>\n",
              "  </thead>\n",
              "  <tbody>\n",
              "    <tr>\n",
              "      <th>0</th>\n",
              "      <td>75001</td>\n",
              "      <td>1/1/2018</td>\n",
              "      <td>1440</td>\n",
              "      <td>0</td>\n",
              "      <td>110</td>\n",
              "      <td>103</td>\n",
              "      <td>3</td>\n",
              "      <td>2</td>\n",
              "      <td>10</td>\n",
              "      <td>9</td>\n",
              "      <td>22</td>\n",
              "      <td>20</td>\n",
              "    </tr>\n",
              "    <tr>\n",
              "      <th>1</th>\n",
              "      <td>75001</td>\n",
              "      <td>1/2/2018</td>\n",
              "      <td>1438</td>\n",
              "      <td>1</td>\n",
              "      <td>98</td>\n",
              "      <td>94</td>\n",
              "      <td>1</td>\n",
              "      <td>1</td>\n",
              "      <td>8</td>\n",
              "      <td>8</td>\n",
              "      <td>23</td>\n",
              "      <td>22</td>\n",
              "    </tr>\n",
              "    <tr>\n",
              "      <th>2</th>\n",
              "      <td>75001</td>\n",
              "      <td>1/3/2018</td>\n",
              "      <td>1439</td>\n",
              "      <td>2</td>\n",
              "      <td>138</td>\n",
              "      <td>139</td>\n",
              "      <td>0</td>\n",
              "      <td>0</td>\n",
              "      <td>2</td>\n",
              "      <td>2</td>\n",
              "      <td>27</td>\n",
              "      <td>27</td>\n",
              "    </tr>\n",
              "    <tr>\n",
              "      <th>3</th>\n",
              "      <td>75001</td>\n",
              "      <td>1/4/2018</td>\n",
              "      <td>1320</td>\n",
              "      <td>3</td>\n",
              "      <td>104</td>\n",
              "      <td>104</td>\n",
              "      <td>2</td>\n",
              "      <td>2</td>\n",
              "      <td>9</td>\n",
              "      <td>8</td>\n",
              "      <td>25</td>\n",
              "      <td>21</td>\n",
              "    </tr>\n",
              "    <tr>\n",
              "      <th>4</th>\n",
              "      <td>75001</td>\n",
              "      <td>1/5/2018</td>\n",
              "      <td>1440</td>\n",
              "      <td>4</td>\n",
              "      <td>114</td>\n",
              "      <td>117</td>\n",
              "      <td>3</td>\n",
              "      <td>3</td>\n",
              "      <td>6</td>\n",
              "      <td>6</td>\n",
              "      <td>18</td>\n",
              "      <td>20</td>\n",
              "    </tr>\n",
              "  </tbody>\n",
              "</table>\n",
              "</div>"
            ],
            "text/plain": [
              "   postal_code      date  ...  slots_freed_sum  slots_taken_sum\n",
              "0        75001  1/1/2018  ...               22               20\n",
              "1        75001  1/2/2018  ...               23               22\n",
              "2        75001  1/3/2018  ...               27               27\n",
              "3        75001  1/4/2018  ...               25               21\n",
              "4        75001  1/5/2018  ...               18               20\n",
              "\n",
              "[5 rows x 12 columns]"
            ]
          },
          "metadata": {
            "tags": []
          },
          "execution_count": 35
        }
      ]
    },
    {
      "cell_type": "code",
      "metadata": {
        "id": "mRhmN4fAFvg4",
        "colab_type": "code",
        "outputId": "0687603a-4bfe-4cd3-f062-591e31e694ec",
        "colab": {
          "base_uri": "https://localhost:8080/",
          "height": 119
        }
      },
      "source": [
        "#converting the day of the week to Monday Tuesday Wednesday Thursday and Friday for easier visualiztion\n",
        "#\n",
        "df['dayofweek'] = df.dayofweek.map({0:\"Monday\", 1:\"Tuesday\",2:\"Wednesday\",3:\"Thursday\", 4:\"Friday\"})\n",
        "df['dayofweek'].head()"
      ],
      "execution_count": 36,
      "outputs": [
        {
          "output_type": "execute_result",
          "data": {
            "text/plain": [
              "0       Monday\n",
              "1      Tuesday\n",
              "2    Wednesday\n",
              "3     Thursday\n",
              "4       Friday\n",
              "Name: dayofweek, dtype: object"
            ]
          },
          "metadata": {
            "tags": []
          },
          "execution_count": 36
        }
      ]
    },
    {
      "cell_type": "code",
      "metadata": {
        "id": "QMCRBSdbMZsv",
        "colab_type": "code",
        "outputId": "67bb4e9e-729b-45cf-afcc-4f3de1468fcf",
        "colab": {
          "base_uri": "https://localhost:8080/",
          "height": 408
        }
      },
      "source": [
        "#checking for outliers\n",
        "#\n",
        "df[['date','n_daily_data_points','bluecars_taken_sum','bluecars_returned_sum','slots_freed_sum','slots_taken_sum']].plot(kind='box')\n",
        "plt.title(\"Boxplot on numerical variables\",fontsize =16,color = 'green')\n",
        "plt.xlabel(\"The Names of The variable\",fontsize =14)\n",
        "plt.ylabel(\"The Frequency\",fontsize =14)\n",
        "plt.xticks(rotation =75)\n",
        "plt.show()"
      ],
      "execution_count": 37,
      "outputs": [
        {
          "output_type": "display_data",
          "data": {
            "image/png": "[encoded data removed]",
            "text/plain": [
              "<Figure size 432x288 with 1 Axes>"
            ]
          },
          "metadata": {
            "tags": []
          }
        }
      ]
    },
    {
      "cell_type": "markdown",
      "metadata": {
        "id": "oMND3Y5NkW-W",
        "colab_type": "text"
      },
      "source": [
        "There is enough evidence of possible sources of outliers however the outliers are so many hence there should be attached reasons as to why they are like so hence i will not drop them"
      ]
    },
    {
      "cell_type": "code",
      "metadata": {
        "id": "GUAWldVCkT_g",
        "colab_type": "code",
        "outputId": "ce0f79bc-99d9-4658-82f9-afe6aff8e290",
        "colab": {
          "base_uri": "https://localhost:8080/",
          "height": 162
        }
      },
      "source": [
        "#This is how data appears after cleaning\n",
        "#\n",
        "df.head(3)"
      ],
      "execution_count": 38,
      "outputs": [
        {
          "output_type": "execute_result",
          "data": {
            "text/html": [
              "<div>\n",
              "<style scoped>\n",
              "    .dataframe tbody tr th:only-of-type {\n",
              "        vertical-align: middle;\n",
              "    }\n",
              "\n",
              "    .dataframe tbody tr th {\n",
              "        vertical-align: top;\n",
              "    }\n",
              "\n",
              "    .dataframe thead th {\n",
              "        text-align: right;\n",
              "    }\n",
              "</style>\n",
              "<table border=\"1\" class=\"dataframe\">\n",
              "  <thead>\n",
              "    <tr style=\"text-align: right;\">\n",
              "      <th></th>\n",
              "      <th>postal_code</th>\n",
              "      <th>date</th>\n",
              "      <th>n_daily_data_points</th>\n",
              "      <th>dayofweek</th>\n",
              "      <th>bluecars_taken_sum</th>\n",
              "      <th>bluecars_returned_sum</th>\n",
              "      <th>utilib_taken_sum</th>\n",
              "      <th>utilib_returned_sum</th>\n",
              "      <th>utilib_14_taken_sum</th>\n",
              "      <th>utilib_14_returned_sum</th>\n",
              "      <th>slots_freed_sum</th>\n",
              "      <th>slots_taken_sum</th>\n",
              "    </tr>\n",
              "  </thead>\n",
              "  <tbody>\n",
              "    <tr>\n",
              "      <th>0</th>\n",
              "      <td>75001</td>\n",
              "      <td>1/1/2018</td>\n",
              "      <td>1440</td>\n",
              "      <td>Monday</td>\n",
              "      <td>110</td>\n",
              "      <td>103</td>\n",
              "      <td>3</td>\n",
              "      <td>2</td>\n",
              "      <td>10</td>\n",
              "      <td>9</td>\n",
              "      <td>22</td>\n",
              "      <td>20</td>\n",
              "    </tr>\n",
              "    <tr>\n",
              "      <th>1</th>\n",
              "      <td>75001</td>\n",
              "      <td>1/2/2018</td>\n",
              "      <td>1438</td>\n",
              "      <td>Tuesday</td>\n",
              "      <td>98</td>\n",
              "      <td>94</td>\n",
              "      <td>1</td>\n",
              "      <td>1</td>\n",
              "      <td>8</td>\n",
              "      <td>8</td>\n",
              "      <td>23</td>\n",
              "      <td>22</td>\n",
              "    </tr>\n",
              "    <tr>\n",
              "      <th>2</th>\n",
              "      <td>75001</td>\n",
              "      <td>1/3/2018</td>\n",
              "      <td>1439</td>\n",
              "      <td>Wednesday</td>\n",
              "      <td>138</td>\n",
              "      <td>139</td>\n",
              "      <td>0</td>\n",
              "      <td>0</td>\n",
              "      <td>2</td>\n",
              "      <td>2</td>\n",
              "      <td>27</td>\n",
              "      <td>27</td>\n",
              "    </tr>\n",
              "  </tbody>\n",
              "</table>\n",
              "</div>"
            ],
            "text/plain": [
              "   postal_code      date  ...  slots_freed_sum slots_taken_sum\n",
              "0        75001  1/1/2018  ...               22              20\n",
              "1        75001  1/2/2018  ...               23              22\n",
              "2        75001  1/3/2018  ...               27              27\n",
              "\n",
              "[3 rows x 12 columns]"
            ]
          },
          "metadata": {
            "tags": []
          },
          "execution_count": 38
        }
      ]
    },
    {
      "cell_type": "markdown",
      "metadata": {
        "id": "PRjZvfBDmBHl",
        "colab_type": "text"
      },
      "source": [
        "# Data visualization "
      ]
    },
    {
      "cell_type": "code",
      "metadata": {
        "id": "cxzDG1mftRmm",
        "colab_type": "code",
        "outputId": "a3da7731-6895-4ea2-b753-56b99410eace",
        "colab": {
          "base_uri": "https://localhost:8080/",
          "height": 393
        }
      },
      "source": [
        "#checking for correlation between different variables using heatmap\n",
        "sns.heatmap(df.corr(),annot=True,cmap='rainbow')"
      ],
      "execution_count": 39,
      "outputs": [
        {
          "output_type": "execute_result",
          "data": {
            "text/plain": [
              "<matplotlib.axes._subplots.AxesSubplot at 0x7fdc755829b0>"
            ]
          },
          "metadata": {
            "tags": []
          },
          "execution_count": 39
        },
        {
          "output_type": "display_data",
          "data": {
            "image/png": "[encoded data removed]",
            "text/plain": [
              "<Figure size 432x288 with 2 Axes>"
            ]
          },
          "metadata": {
            "tags": []
          }
        }
      ]
    },
    {
      "cell_type": "markdown",
      "metadata": {
        "id": "-BaseUjrujBM",
        "colab_type": "text"
      },
      "source": [
        "There is high correlation between\n",
        "\n",
        "\n",
        "1.   Blue cars taken and blue cars returned\n",
        "2.   slots taken and slots freed\n",
        "\n"
      ]
    },
    {
      "cell_type": "code",
      "metadata": {
        "id": "uOVsNRz6Fvai",
        "colab_type": "code",
        "outputId": "6565f13f-3795-4ba1-a3ca-52be90b897fe",
        "colab": {
          "base_uri": "https://localhost:8080/",
          "height": 301
        }
      },
      "source": [
        "#checking the relationship between blue cars taken and slots freed\n",
        "plt.scatter(df.bluecars_taken_sum,df.slots_freed_sum)\n",
        "plt.title(\"Scatter plot on Bluecars taken against slots freed\",fontsize =16,color = 'green')\n",
        "plt.xlabel(\"Bluecars Taken\",fontsize =14)\n",
        "plt.ylabel(\"Slots Freed\",fontsize =14)\n",
        "plt.show()"
      ],
      "execution_count": 40,
      "outputs": [
        {
          "output_type": "display_data",
          "data": {
            "image/png": "[encoded data removed]",
            "text/plain": [
              "<Figure size 432x288 with 1 Axes>"
            ]
          },
          "metadata": {
            "tags": []
          }
        }
      ]
    },
    {
      "cell_type": "markdown",
      "metadata": {
        "id": "iucMSkwUr8CQ",
        "colab_type": "text"
      },
      "source": [
        "There is a positive relationship between bluecars taken and slots freed"
      ]
    },
    {
      "cell_type": "code",
      "metadata": {
        "id": "Vg2mQcNeFvYG",
        "colab_type": "code",
        "outputId": "9ef4096b-dfff-436c-857a-2e40b7d68271",
        "colab": {
          "base_uri": "https://localhost:8080/",
          "height": 301
        }
      },
      "source": [
        "#checking the relationship between blue cars returned and slots taken\n",
        "plt.scatter(df.bluecars_returned_sum,df.slots_taken_sum)\n",
        "plt.title(\"Scatter plot on Bluecars returned against slots taken\",fontsize =16,color = 'green')\n",
        "plt.xlabel(\"Bluecars Returned\",fontsize =14)\n",
        "plt.ylabel(\"Slots Taken\",fontsize =14)\n",
        "plt.show()"
      ],
      "execution_count": 41,
      "outputs": [
        {
          "output_type": "display_data",
          "data": {
            "image/png": "[encoded data removed]",
            "text/plain": [
              "<Figure size 432x288 with 1 Axes>"
            ]
          },
          "metadata": {
            "tags": []
          }
        }
      ]
    },
    {
      "cell_type": "markdown",
      "metadata": {
        "id": "m4zh-v4e1bUR",
        "colab_type": "text"
      },
      "source": [
        "There is a strong positive relationship between bluecars returned and slots taken"
      ]
    },
    {
      "cell_type": "code",
      "metadata": {
        "id": "LJGBFX4tFvdB",
        "colab_type": "code",
        "outputId": "fdec0fbf-b4c9-4d34-9837-29d66f13b5b5",
        "colab": {
          "base_uri": "https://localhost:8080/",
          "height": 301
        }
      },
      "source": [
        "#checking which day has the highest number of blue cars taken\n",
        "#\n",
        "\n",
        "sns.set_style(style = 'darkgrid')\n",
        "sns.barplot(df.dayofweek,df.bluecars_taken_sum)\n",
        "plt.title(\"Bar Plot on Day of the Week against BlueCars Taken\",fontsize =16,color = 'green')\n",
        "plt.xlabel(\"Day Of The Week\",fontsize =14)\n",
        "plt.ylabel(\"Bluecars Taken\",fontsize =14)\n",
        "plt.show()"
      ],
      "execution_count": 42,
      "outputs": [
        {
          "output_type": "display_data",
          "data": {
            "image/png": "[encoded data removed]",
            "text/plain": [
              "<Figure size 432x288 with 1 Axes>"
            ]
          },
          "metadata": {
            "tags": []
          }
        }
      ]
    },
    {
      "cell_type": "markdown",
      "metadata": {
        "id": "t8sdnjFzpaTV",
        "colab_type": "text"
      },
      "source": [
        "Friday has the highest number of blue cars taken and Monday has the lowest number of cars taken"
      ]
    },
    {
      "cell_type": "code",
      "metadata": {
        "id": "Cr-8WL8ZpX6o",
        "colab_type": "code",
        "outputId": "16e4a5be-4b05-4f23-b8cc-853876bcb001",
        "colab": {
          "base_uri": "https://localhost:8080/",
          "height": 301
        }
      },
      "source": [
        "#checking which day has the highest number of blue cars taken\n",
        "#\n",
        "\n",
        "sns.set_style(style = 'darkgrid')\n",
        "sns.barplot(df.dayofweek,df.bluecars_returned_sum)\n",
        "plt.title(\"Bar Plot on Day of the Week against BlueCars Returned\",fontsize =16,color = 'green')\n",
        "plt.xlabel(\"Day Of The Week\",fontsize =14)\n",
        "plt.ylabel(\"Bluecars Returned\",fontsize =14)\n",
        "plt.show()"
      ],
      "execution_count": 43,
      "outputs": [
        {
          "output_type": "display_data",
          "data": {
            "image/png": "[encoded data removed]",
            "text/plain": [
              "<Figure size 432x288 with 1 Axes>"
            ]
          },
          "metadata": {
            "tags": []
          }
        }
      ]
    },
    {
      "cell_type": "markdown",
      "metadata": {
        "id": "tednfk6Kp2Ey",
        "colab_type": "text"
      },
      "source": [
        "Friday has the highest number of blue cars returned and monday has the lowest number of cars taken"
      ]
    },
    {
      "cell_type": "markdown",
      "metadata": {
        "id": "PRXF6_kTp54e",
        "colab_type": "text"
      },
      "source": [
        "This therefore shows that bluecars is more active on fridays more than any other day of the week"
      ]
    },
    {
      "cell_type": "code",
      "metadata": {
        "id": "sJSscKwpsGQA",
        "colab_type": "code",
        "outputId": "5c5ce289-2704-4ff7-db20-335f8bf86c36",
        "colab": {
          "base_uri": "https://localhost:8080/",
          "height": 379
        }
      },
      "source": [
        "# Getting clear difference on blue cars taken on monday and on friday\n",
        "df = df[(df['dayofweek'] == 'Monday') | (df['dayofweek'] == 'Friday')]\n",
        "\n",
        "# Getting a sample of the filtered data\n",
        "\n",
        "df.sample(10)"
      ],
      "execution_count": 44,
      "outputs": [
        {
          "output_type": "execute_result",
          "data": {
            "text/html": [
              "<div>\n",
              "<style scoped>\n",
              "    .dataframe tbody tr th:only-of-type {\n",
              "        vertical-align: middle;\n",
              "    }\n",
              "\n",
              "    .dataframe tbody tr th {\n",
              "        vertical-align: top;\n",
              "    }\n",
              "\n",
              "    .dataframe thead th {\n",
              "        text-align: right;\n",
              "    }\n",
              "</style>\n",
              "<table border=\"1\" class=\"dataframe\">\n",
              "  <thead>\n",
              "    <tr style=\"text-align: right;\">\n",
              "      <th></th>\n",
              "      <th>postal_code</th>\n",
              "      <th>date</th>\n",
              "      <th>n_daily_data_points</th>\n",
              "      <th>dayofweek</th>\n",
              "      <th>bluecars_taken_sum</th>\n",
              "      <th>bluecars_returned_sum</th>\n",
              "      <th>utilib_taken_sum</th>\n",
              "      <th>utilib_returned_sum</th>\n",
              "      <th>utilib_14_taken_sum</th>\n",
              "      <th>utilib_14_returned_sum</th>\n",
              "      <th>slots_freed_sum</th>\n",
              "      <th>slots_taken_sum</th>\n",
              "    </tr>\n",
              "  </thead>\n",
              "  <tbody>\n",
              "    <tr>\n",
              "      <th>13771</th>\n",
              "      <td>94140</td>\n",
              "      <td>1/26/2018</td>\n",
              "      <td>1437</td>\n",
              "      <td>Friday</td>\n",
              "      <td>54</td>\n",
              "      <td>59</td>\n",
              "      <td>2</td>\n",
              "      <td>1</td>\n",
              "      <td>5</td>\n",
              "      <td>5</td>\n",
              "      <td>0</td>\n",
              "      <td>0</td>\n",
              "    </tr>\n",
              "    <tr>\n",
              "      <th>11540</th>\n",
              "      <td>93350</td>\n",
              "      <td>2/19/2018</td>\n",
              "      <td>1420</td>\n",
              "      <td>Monday</td>\n",
              "      <td>16</td>\n",
              "      <td>17</td>\n",
              "      <td>0</td>\n",
              "      <td>1</td>\n",
              "      <td>2</td>\n",
              "      <td>3</td>\n",
              "      <td>1</td>\n",
              "      <td>1</td>\n",
              "    </tr>\n",
              "    <tr>\n",
              "      <th>13557</th>\n",
              "      <td>94120</td>\n",
              "      <td>5/7/2018</td>\n",
              "      <td>1437</td>\n",
              "      <td>Monday</td>\n",
              "      <td>48</td>\n",
              "      <td>51</td>\n",
              "      <td>0</td>\n",
              "      <td>0</td>\n",
              "      <td>4</td>\n",
              "      <td>5</td>\n",
              "      <td>0</td>\n",
              "      <td>0</td>\n",
              "    </tr>\n",
              "    <tr>\n",
              "      <th>15213</th>\n",
              "      <td>94500</td>\n",
              "      <td>3/9/2018</td>\n",
              "      <td>1440</td>\n",
              "      <td>Friday</td>\n",
              "      <td>30</td>\n",
              "      <td>31</td>\n",
              "      <td>3</td>\n",
              "      <td>2</td>\n",
              "      <td>0</td>\n",
              "      <td>1</td>\n",
              "      <td>0</td>\n",
              "      <td>0</td>\n",
              "    </tr>\n",
              "    <tr>\n",
              "      <th>11526</th>\n",
              "      <td>93350</td>\n",
              "      <td>2/5/2018</td>\n",
              "      <td>1440</td>\n",
              "      <td>Monday</td>\n",
              "      <td>6</td>\n",
              "      <td>10</td>\n",
              "      <td>2</td>\n",
              "      <td>1</td>\n",
              "      <td>1</td>\n",
              "      <td>2</td>\n",
              "      <td>0</td>\n",
              "      <td>1</td>\n",
              "    </tr>\n",
              "    <tr>\n",
              "      <th>13324</th>\n",
              "      <td>94110</td>\n",
              "      <td>2/16/2018</td>\n",
              "      <td>1439</td>\n",
              "      <td>Friday</td>\n",
              "      <td>41</td>\n",
              "      <td>42</td>\n",
              "      <td>0</td>\n",
              "      <td>0</td>\n",
              "      <td>4</td>\n",
              "      <td>3</td>\n",
              "      <td>0</td>\n",
              "      <td>0</td>\n",
              "    </tr>\n",
              "    <tr>\n",
              "      <th>3194</th>\n",
              "      <td>75112</td>\n",
              "      <td>3/19/2018</td>\n",
              "      <td>1440</td>\n",
              "      <td>Monday</td>\n",
              "      <td>5</td>\n",
              "      <td>5</td>\n",
              "      <td>2</td>\n",
              "      <td>2</td>\n",
              "      <td>0</td>\n",
              "      <td>0</td>\n",
              "      <td>1</td>\n",
              "      <td>1</td>\n",
              "    </tr>\n",
              "    <tr>\n",
              "      <th>9103</th>\n",
              "      <td>92410</td>\n",
              "      <td>3/16/2018</td>\n",
              "      <td>1440</td>\n",
              "      <td>Friday</td>\n",
              "      <td>20</td>\n",
              "      <td>19</td>\n",
              "      <td>0</td>\n",
              "      <td>0</td>\n",
              "      <td>1</td>\n",
              "      <td>1</td>\n",
              "      <td>0</td>\n",
              "      <td>0</td>\n",
              "    </tr>\n",
              "    <tr>\n",
              "      <th>15978</th>\n",
              "      <td>95880</td>\n",
              "      <td>2/19/2018</td>\n",
              "      <td>1420</td>\n",
              "      <td>Monday</td>\n",
              "      <td>8</td>\n",
              "      <td>11</td>\n",
              "      <td>0</td>\n",
              "      <td>0</td>\n",
              "      <td>0</td>\n",
              "      <td>0</td>\n",
              "      <td>0</td>\n",
              "      <td>0</td>\n",
              "    </tr>\n",
              "    <tr>\n",
              "      <th>4313</th>\n",
              "      <td>91400</td>\n",
              "      <td>4/16/2018</td>\n",
              "      <td>1440</td>\n",
              "      <td>Monday</td>\n",
              "      <td>5</td>\n",
              "      <td>5</td>\n",
              "      <td>0</td>\n",
              "      <td>0</td>\n",
              "      <td>1</td>\n",
              "      <td>0</td>\n",
              "      <td>0</td>\n",
              "      <td>0</td>\n",
              "    </tr>\n",
              "  </tbody>\n",
              "</table>\n",
              "</div>"
            ],
            "text/plain": [
              "       postal_code       date  ...  slots_freed_sum slots_taken_sum\n",
              "13771        94140  1/26/2018  ...                0               0\n",
              "11540        93350  2/19/2018  ...                1               1\n",
              "13557        94120   5/7/2018  ...                0               0\n",
              "15213        94500   3/9/2018  ...                0               0\n",
              "11526        93350   2/5/2018  ...                0               1\n",
              "13324        94110  2/16/2018  ...                0               0\n",
              "3194         75112  3/19/2018  ...                1               1\n",
              "9103         92410  3/16/2018  ...                0               0\n",
              "15978        95880  2/19/2018  ...                0               0\n",
              "4313         91400  4/16/2018  ...                0               0\n",
              "\n",
              "[10 rows x 12 columns]"
            ]
          },
          "metadata": {
            "tags": []
          },
          "execution_count": 44
        }
      ]
    },
    {
      "cell_type": "code",
      "metadata": {
        "id": "HuOKHQ3PwSwr",
        "colab_type": "code",
        "outputId": "09f99b1f-99ef-4999-8a8b-44145c568f74",
        "colab": {
          "base_uri": "https://localhost:8080/",
          "height": 34
        }
      },
      "source": [
        "#Getting the unique values of day of week\n",
        "df.dayofweek.unique()"
      ],
      "execution_count": 45,
      "outputs": [
        {
          "output_type": "execute_result",
          "data": {
            "text/plain": [
              "array(['Monday', 'Friday'], dtype=object)"
            ]
          },
          "metadata": {
            "tags": []
          },
          "execution_count": 45
        }
      ]
    },
    {
      "cell_type": "code",
      "metadata": {
        "id": "jNLaNNq-zy7X",
        "colab_type": "code",
        "outputId": "6a8b734f-01cb-49d5-f535-d4ff204dfca1",
        "colab": {
          "base_uri": "https://localhost:8080/",
          "height": 85
        }
      },
      "source": [
        "#Grouping the blue cars returned by their day of week\n",
        "df1 = df.groupby('dayofweek')['bluecars_returned_sum'].sum()\n",
        "df1"
      ],
      "execution_count": 46,
      "outputs": [
        {
          "output_type": "execute_result",
          "data": {
            "text/plain": [
              "dayofweek\n",
              "Friday    286029\n",
              "Monday    264808\n",
              "Name: bluecars_returned_sum, dtype: int64"
            ]
          },
          "metadata": {
            "tags": []
          },
          "execution_count": 46
        }
      ]
    },
    {
      "cell_type": "code",
      "metadata": {
        "id": "Ct5DgqH_yRYU",
        "colab_type": "code",
        "outputId": "7ba6ee25-0047-4abc-e46d-48bed280badf",
        "colab": {
          "base_uri": "https://localhost:8080/",
          "height": 270
        }
      },
      "source": [
        "#plotiing bluecars returned on monday and Friday\n",
        "explode =[0.1,0]\n",
        "plt.title(\"Bluecars returned on monday and Friday\",fontsize = 16,color = \"green\")\n",
        "plt.pie(df1.values,explode=explode,labels=df1.index,startangle=140,autopct=\"%1.1f%%\")\n",
        "plt.show()"
      ],
      "execution_count": 47,
      "outputs": [
        {
          "output_type": "display_data",
          "data": {
            "image/png": "[encoded data removed]",
            "text/plain": [
              "<Figure size 432x288 with 1 Axes>"
            ]
          },
          "metadata": {
            "tags": []
          }
        }
      ]
    },
    {
      "cell_type": "code",
      "metadata": {
        "id": "ojYsBaEZ7G3i",
        "colab_type": "code",
        "outputId": "fa55416f-e326-444d-b061-1184132f0e1b",
        "colab": {
          "base_uri": "https://localhost:8080/",
          "height": 85
        }
      },
      "source": [
        "#Grouping the blue cars taken by their day of week\n",
        "df2 = df.groupby('dayofweek')['bluecars_taken_sum'].sum()\n",
        "df2"
      ],
      "execution_count": 48,
      "outputs": [
        {
          "output_type": "execute_result",
          "data": {
            "text/plain": [
              "dayofweek\n",
              "Friday    288546\n",
              "Monday    263893\n",
              "Name: bluecars_taken_sum, dtype: int64"
            ]
          },
          "metadata": {
            "tags": []
          },
          "execution_count": 48
        }
      ]
    },
    {
      "cell_type": "code",
      "metadata": {
        "id": "qEfCVUq468IK",
        "colab_type": "code",
        "outputId": "fe1d1604-db10-44ca-e549-4dda7777ed3a",
        "colab": {
          "base_uri": "https://localhost:8080/",
          "height": 270
        }
      },
      "source": [
        "#plotiing bluecars taken on monday and Friday\n",
        "explode =[0.1,0]\n",
        "plt.title(\"Bluecars taken on monday and Friday\",fontsize = 16,color = \"green\")\n",
        "plt.pie(df2.values,explode=explode,labels=df2.index,startangle=140,autopct=\"%1.1f%%\")\n",
        "plt.show()"
      ],
      "execution_count": 49,
      "outputs": [
        {
          "output_type": "display_data",
          "data": {
            "image/png": "[encoded data removed]",
            "text/plain": [
              "<Figure size 432x288 with 1 Axes>"
            ]
          },
          "metadata": {
            "tags": []
          }
        }
      ]
    },
    {
      "cell_type": "markdown",
      "metadata": {
        "id": "C9cxA3WJ60nd",
        "colab_type": "text"
      },
      "source": [
        "It is clear that friday is bigger than monday"
      ]
    },
    {
      "cell_type": "code",
      "metadata": {
        "id": "Chjwhr3nApGD",
        "colab_type": "code",
        "outputId": "bf64dd18-12f5-433e-d579-539decb901ef",
        "colab": {
          "base_uri": "https://localhost:8080/",
          "height": 85
        }
      },
      "source": [
        "#Getting the population mean and population standard deviation\n",
        "pop_mean_taken = df.bluecars_taken_sum.mean()\n",
        "pop_mean_returned = df.bluecars_returned_sum.mean()\n",
        "pop_std_taken = df.bluecars_taken_sum.std()\n",
        "pop_std_returned = df.bluecars_returned_sum.std()\n",
        "print(\"Population mean of blue cars taken\",pop_mean_taken)\n",
        "print(\"Population mean of blue cars returned\",pop_mean_returned)\n",
        "print(\"population standard deviation of blue cars taken\",pop_std_taken)\n",
        "print(\"population standard deviation of blur cars returned\",pop_std_returned)\n"
      ],
      "execution_count": 50,
      "outputs": [
        {
          "output_type": "stream",
          "text": [
            "Population mean of blue cars taken 118.93196986006458\n",
            "Population mean of blue cars returned 118.5870828848224\n",
            "population standard deviation of blue cars taken 172.80257918893628\n",
            "population standard deviation of blur cars returned 172.0243996130345\n"
          ],
          "name": "stdout"
        }
      ]
    },
    {
      "cell_type": "markdown",
      "metadata": {
        "id": "98rS8FdgsQSA",
        "colab_type": "text"
      },
      "source": [
        "# Sampling the data using Stratified sampling"
      ]
    },
    {
      "cell_type": "markdown",
      "metadata": {
        "id": "0WsOeh-d6xKt",
        "colab_type": "text"
      },
      "source": [
        "I have used stratified sampling because i am dealing with categorical data which is days in a week which does not overlap with each other "
      ]
    },
    {
      "cell_type": "code",
      "metadata": {
        "id": "Zm8PZmJFAgMq",
        "colab_type": "code",
        "outputId": "ebc4cf05-72a1-4ba1-8dba-c724ab684ea4",
        "colab": {
          "base_uri": "https://localhost:8080/",
          "height": 224
        }
      },
      "source": [
        "\n",
        "#stratified sampling \n",
        "df1 = df.groupby('dayofweek',group_keys=False).apply(lambda x : x.sample(frac = 0.3))\n",
        "df1.head()"
      ],
      "execution_count": 51,
      "outputs": [
        {
          "output_type": "execute_result",
          "data": {
            "text/html": [
              "<div>\n",
              "<style scoped>\n",
              "    .dataframe tbody tr th:only-of-type {\n",
              "        vertical-align: middle;\n",
              "    }\n",
              "\n",
              "    .dataframe tbody tr th {\n",
              "        vertical-align: top;\n",
              "    }\n",
              "\n",
              "    .dataframe thead th {\n",
              "        text-align: right;\n",
              "    }\n",
              "</style>\n",
              "<table border=\"1\" class=\"dataframe\">\n",
              "  <thead>\n",
              "    <tr style=\"text-align: right;\">\n",
              "      <th></th>\n",
              "      <th>postal_code</th>\n",
              "      <th>date</th>\n",
              "      <th>n_daily_data_points</th>\n",
              "      <th>dayofweek</th>\n",
              "      <th>bluecars_taken_sum</th>\n",
              "      <th>bluecars_returned_sum</th>\n",
              "      <th>utilib_taken_sum</th>\n",
              "      <th>utilib_returned_sum</th>\n",
              "      <th>utilib_14_taken_sum</th>\n",
              "      <th>utilib_14_returned_sum</th>\n",
              "      <th>slots_freed_sum</th>\n",
              "      <th>slots_taken_sum</th>\n",
              "    </tr>\n",
              "  </thead>\n",
              "  <tbody>\n",
              "    <tr>\n",
              "      <th>8374</th>\n",
              "      <td>92360</td>\n",
              "      <td>5/4/2018</td>\n",
              "      <td>1435</td>\n",
              "      <td>Friday</td>\n",
              "      <td>11</td>\n",
              "      <td>10</td>\n",
              "      <td>1</td>\n",
              "      <td>0</td>\n",
              "      <td>0</td>\n",
              "      <td>0</td>\n",
              "      <td>0</td>\n",
              "      <td>0</td>\n",
              "    </tr>\n",
              "    <tr>\n",
              "      <th>5556</th>\n",
              "      <td>92160</td>\n",
              "      <td>4/13/2018</td>\n",
              "      <td>1439</td>\n",
              "      <td>Friday</td>\n",
              "      <td>32</td>\n",
              "      <td>33</td>\n",
              "      <td>0</td>\n",
              "      <td>0</td>\n",
              "      <td>1</td>\n",
              "      <td>0</td>\n",
              "      <td>0</td>\n",
              "      <td>0</td>\n",
              "    </tr>\n",
              "    <tr>\n",
              "      <th>14448</th>\n",
              "      <td>94230</td>\n",
              "      <td>3/23/2018</td>\n",
              "      <td>1440</td>\n",
              "      <td>Friday</td>\n",
              "      <td>38</td>\n",
              "      <td>29</td>\n",
              "      <td>3</td>\n",
              "      <td>3</td>\n",
              "      <td>7</td>\n",
              "      <td>8</td>\n",
              "      <td>0</td>\n",
              "      <td>0</td>\n",
              "    </tr>\n",
              "    <tr>\n",
              "      <th>1184</th>\n",
              "      <td>75008</td>\n",
              "      <td>4/6/2018</td>\n",
              "      <td>1364</td>\n",
              "      <td>Friday</td>\n",
              "      <td>469</td>\n",
              "      <td>484</td>\n",
              "      <td>6</td>\n",
              "      <td>6</td>\n",
              "      <td>34</td>\n",
              "      <td>35</td>\n",
              "      <td>125</td>\n",
              "      <td>132</td>\n",
              "    </tr>\n",
              "    <tr>\n",
              "      <th>12768</th>\n",
              "      <td>93700</td>\n",
              "      <td>4/27/2018</td>\n",
              "      <td>1440</td>\n",
              "      <td>Friday</td>\n",
              "      <td>39</td>\n",
              "      <td>38</td>\n",
              "      <td>1</td>\n",
              "      <td>3</td>\n",
              "      <td>2</td>\n",
              "      <td>1</td>\n",
              "      <td>0</td>\n",
              "      <td>0</td>\n",
              "    </tr>\n",
              "  </tbody>\n",
              "</table>\n",
              "</div>"
            ],
            "text/plain": [
              "       postal_code       date  ...  slots_freed_sum slots_taken_sum\n",
              "8374         92360   5/4/2018  ...                0               0\n",
              "5556         92160  4/13/2018  ...                0               0\n",
              "14448        94230  3/23/2018  ...                0               0\n",
              "1184         75008   4/6/2018  ...              125             132\n",
              "12768        93700  4/27/2018  ...                0               0\n",
              "\n",
              "[5 rows x 12 columns]"
            ]
          },
          "metadata": {
            "tags": []
          },
          "execution_count": 51
        }
      ]
    },
    {
      "cell_type": "code",
      "metadata": {
        "id": "BVOabfauDNUB",
        "colab_type": "code",
        "outputId": "79afb640-1c44-46d8-ec4e-4572cc7f3077",
        "colab": {
          "base_uri": "https://localhost:8080/",
          "height": 85
        }
      },
      "source": [
        "#Getting the sample mean and sample standard deviation\n",
        "samp_mean_taken = df1.bluecars_taken_sum.mean()\n",
        "samp_mean_returned = df1.bluecars_returned_sum.mean()\n",
        "samp_std_taken = df1.bluecars_taken_sum.std()\n",
        "samp_std_returned = df1.bluecars_returned_sum.std()\n",
        "print(\"Sample mean of blue cars taken\",samp_mean_taken)\n",
        "print(\"Sample mean of blue cars returned\",samp_mean_returned)\n",
        "print(\"Sample standard deviation of blue cars taken\",samp_std_taken)\n",
        "print(\"Sample standard deviation of blue cars returned\",samp_std_returned)"
      ],
      "execution_count": 52,
      "outputs": [
        {
          "output_type": "stream",
          "text": [
            "Sample mean of blue cars taken 123.36252692031586\n",
            "Sample mean of blue cars returned 123.14357501794687\n",
            "Sample standard deviation of blue cars taken 175.10952632481775\n",
            "Sample standard deviation of blue cars returned 174.66692293936651\n"
          ],
          "name": "stdout"
        }
      ]
    },
    {
      "cell_type": "markdown",
      "metadata": {
        "id": "71UBFVnKKqsE",
        "colab_type": "text"
      },
      "source": [
        "# Getting the probabilities"
      ]
    },
    {
      "cell_type": "markdown",
      "metadata": {
        "id": "NbKJfGRfVAIK",
        "colab_type": "text"
      },
      "source": [
        "Here we use poisson Distribution because we are testing the probability of an event happening "
      ]
    },
    {
      "cell_type": "markdown",
      "metadata": {
        "id": "bp6jEhH8ShRs",
        "colab_type": "text"
      },
      "source": [
        "## Taking cars"
      ]
    },
    {
      "cell_type": "code",
      "metadata": {
        "id": "MYz2cspHKnVz",
        "colab_type": "code",
        "outputId": "760daf6c-82d1-4290-a6e4-27e6f5a41c81",
        "colab": {
          "base_uri": "https://localhost:8080/",
          "height": 34
        }
      },
      "source": [
        "#The probability that 100 bluecars were taken  on monday\n",
        "#i have chosen 100 because it is around the mean\n",
        "monday = df1[df1.dayofweek == \"Monday\"]\n",
        "\n",
        "monday_taken  = monday.bluecars_taken_sum.mean()\n",
        "stats.poisson.pmf(100,monday_taken)"
      ],
      "execution_count": 53,
      "outputs": [
        {
          "output_type": "execute_result",
          "data": {
            "text/plain": [
              "0.004956902369015426"
            ]
          },
          "metadata": {
            "tags": []
          },
          "execution_count": 53
        }
      ]
    },
    {
      "cell_type": "code",
      "metadata": {
        "id": "UATAiTNaOn1v",
        "colab_type": "code",
        "outputId": "501f7ae6-a3cd-486f-ce0a-504be0a97a7e",
        "colab": {
          "base_uri": "https://localhost:8080/",
          "height": 34
        }
      },
      "source": [
        "#The probability that 117 bluecars were taken  on Friday \n",
        "Friday = df1[df1.dayofweek == \"Friday\"]\n",
        "\n",
        "Friday_taken  = Friday.bluecars_taken_sum.mean()\n",
        "stats.poisson.pmf(117,Friday_taken)"
      ],
      "execution_count": 54,
      "outputs": [
        {
          "output_type": "execute_result",
          "data": {
            "text/plain": [
              "0.028437789070950594"
            ]
          },
          "metadata": {
            "tags": []
          },
          "execution_count": 54
        }
      ]
    },
    {
      "cell_type": "markdown",
      "metadata": {
        "id": "7uh7rluwR04V",
        "colab_type": "text"
      },
      "source": [
        "From the above two experiment it evident that the probability taking 117 cars on friday and taking 100 cars on monday is the same.\n",
        "\n",
        "Meaning that friday has more cars taken compared to monday"
      ]
    },
    {
      "cell_type": "markdown",
      "metadata": {
        "id": "T7J45BKHSqJw",
        "colab_type": "text"
      },
      "source": [
        "## Returning cars"
      ]
    },
    {
      "cell_type": "code",
      "metadata": {
        "id": "Lg2CbqRZSY1C",
        "colab_type": "code",
        "outputId": "1176ee05-6bd0-47f8-e2e8-7407c653de1e",
        "colab": {
          "base_uri": "https://localhost:8080/",
          "height": 34
        }
      },
      "source": [
        "#The probability that 100 bluecars were returned  on monday\n",
        "#i have chosen 100 because it is around the mean\n",
        "monday = df1[df1.dayofweek == \"Monday\"]\n",
        "\n",
        "monday_returned  = monday.bluecars_returned_sum.mean()\n",
        "stats.poisson.pmf(100,monday_returned)"
      ],
      "execution_count": 55,
      "outputs": [
        {
          "output_type": "execute_result",
          "data": {
            "text/plain": [
              "0.004445311983995553"
            ]
          },
          "metadata": {
            "tags": []
          },
          "execution_count": 55
        }
      ]
    },
    {
      "cell_type": "code",
      "metadata": {
        "id": "Cmbzu-jFSz97",
        "colab_type": "code",
        "outputId": "7844139d-bbcd-4c40-c0a7-698c5f42d4b7",
        "colab": {
          "base_uri": "https://localhost:8080/",
          "height": 34
        }
      },
      "source": [
        "#The probability that 117 bluecars were returned  on Friday \n",
        "Friday = df1[df1.dayofweek == \"Friday\"]\n",
        "\n",
        "Friday_returned  = Friday.bluecars_returned_sum.mean()\n",
        "stats.poisson.pmf(116,Friday_returned)"
      ],
      "execution_count": 56,
      "outputs": [
        {
          "output_type": "execute_result",
          "data": {
            "text/plain": [
              "0.028638421460989133"
            ]
          },
          "metadata": {
            "tags": []
          },
          "execution_count": 56
        }
      ]
    },
    {
      "cell_type": "markdown",
      "metadata": {
        "id": "KeDHnbKwTkOD",
        "colab_type": "text"
      },
      "source": [
        "From the above two experiment it evident that the probability of 116 cars returned on friday and 100 cars returned on monday is the same.\n",
        "\n",
        "Meaning that friday has more cars taken compared to monday"
      ]
    },
    {
      "cell_type": "markdown",
      "metadata": {
        "id": "OAZdmJ9WUbmz",
        "colab_type": "text"
      },
      "source": [
        "# The probability of returning cars  given they were taken"
      ]
    },
    {
      "cell_type": "markdown",
      "metadata": {
        "id": "DWMRp7qQUwjL",
        "colab_type": "text"
      },
      "source": [
        "Here we will use Bayesian distribution because there is presence of a condition"
      ]
    },
    {
      "cell_type": "code",
      "metadata": {
        "id": "YCsK-JIhadYJ",
        "colab_type": "code",
        "outputId": "54d04df9-0f24-4507-c0c2-c50134a6ecbd",
        "colab": {
          "base_uri": "https://localhost:8080/",
          "height": 68
        }
      },
      "source": [
        "#p(returning cars/taken) = (p(Taken/returning cars) * p(returning car) )/p(taken)\n",
        "\n",
        "x = df1[['bluecars_returned_sum','bluecars_taken_sum']]\n",
        "y = df1.dayofweek\n",
        "\n",
        "#splitting the dataset\n",
        "x_train,x_test,y_train,y_test = train_test_split(x,y,test_size=0.5,random_state=100)\n",
        "\n",
        "#normalizing the dataset\n",
        "sc= StandardScaler()\n",
        "\n",
        "#Fitting and training the dataset\n",
        "x_train = sc.fit_transform(x_train)\n",
        "x_test = sc.transform(x_test)\n",
        "\n",
        "#predicting using bayesian classifier\n",
        "gn = GaussianNB()\n",
        "gn.fit(x_train,y_train)\n",
        "\n",
        "y_pred=gn.predict(x_test)\n",
        "\n",
        "\n",
        "#getting the accuracy of the prediction\n",
        "print(accuracy_score(y_test,y_pred))\n",
        "print(confusion_matrix(y_test,y_pred))"
      ],
      "execution_count": 57,
      "outputs": [
        {
          "output_type": "stream",
          "text": [
            "0.4720229555236729\n",
            "[[ 44 302]\n",
            " [ 66 285]]\n"
          ],
          "name": "stdout"
        }
      ]
    },
    {
      "cell_type": "markdown",
      "metadata": {
        "id": "hEzzBQoB1zVr",
        "colab_type": "text"
      },
      "source": [
        "The days were predicted well with 51.35% accuracy between monday and Friday"
      ]
    },
    {
      "cell_type": "markdown",
      "metadata": {
        "id": "k1j6tnOw1zIW",
        "colab_type": "text"
      },
      "source": [
        "# Testing The Significance of The Hypothesis"
      ]
    },
    {
      "cell_type": "markdown",
      "metadata": {
        "id": "yLvGXUzNiTRb",
        "colab_type": "text"
      },
      "source": [
        "## Testing for normality "
      ]
    },
    {
      "cell_type": "code",
      "metadata": {
        "id": "6_fR-nvR7aF6",
        "colab_type": "code",
        "outputId": "62d9ddef-0fff-4b00-baf6-06e8d0fc57dc",
        "colab": {
          "base_uri": "https://localhost:8080/",
          "height": 301
        }
      },
      "source": [
        "#Testing for normality before perfoming z_test\n",
        "#using p-plot on bluecrs returned\n",
        "stats.probplot(df1.bluecars_returned_sum,plot=plt)\n",
        "plt.title(\"Probability plot of bluecars returned\",fontsize =16,color = 'green')\n",
        "plt.xlabel(\"Teoretical quantiles\",fontsize =14)\n",
        "plt.ylabel(\"ordered values\",fontsize =14)\n",
        "plt.show()"
      ],
      "execution_count": 58,
      "outputs": [
        {
          "output_type": "display_data",
          "data": {
            "image/png": "[encoded data removed]",
            "text/plain": [
              "<Figure size 432x288 with 1 Axes>"
            ]
          },
          "metadata": {
            "tags": []
          }
        }
      ]
    },
    {
      "cell_type": "markdown",
      "metadata": {
        "id": "rD5BJ25X9v2_",
        "colab_type": "text"
      },
      "source": [
        "The blue cars returned have little sense of normality"
      ]
    },
    {
      "cell_type": "code",
      "metadata": {
        "id": "lbygN5TM86Pw",
        "colab_type": "code",
        "outputId": "fa4eab52-fe7c-407b-dca7-f3e7f1408594",
        "colab": {
          "base_uri": "https://localhost:8080/",
          "height": 301
        }
      },
      "source": [
        "#p-plot on blue cars taken\n",
        "stats.probplot(df1.bluecars_taken_sum,plot=plt)\n",
        "plt.title(\"Probability plot of bluecars taken\",fontsize =16,color = 'green')\n",
        "plt.xlabel(\"Teoretical quantiles\",fontsize =14)\n",
        "plt.ylabel(\"ordered values\",fontsize =14)\n",
        "plt.show()"
      ],
      "execution_count": 59,
      "outputs": [
        {
          "output_type": "display_data",
          "data": {
            "image/png": "[encoded data removed]",
            "text/plain": [
              "<Figure size 432x288 with 1 Axes>"
            ]
          },
          "metadata": {
            "tags": []
          }
        }
      ]
    },
    {
      "cell_type": "markdown",
      "metadata": {
        "id": "-BlkkuZ09_Uz",
        "colab_type": "text"
      },
      "source": [
        "The blue cars taken have little sense of normality"
      ]
    },
    {
      "cell_type": "code",
      "metadata": {
        "id": "xeRFr5PgiAnF",
        "colab_type": "code",
        "outputId": "5ea130af-a34b-4c32-95fd-8b249ac9e9ab",
        "colab": {
          "base_uri": "https://localhost:8080/",
          "height": 301
        }
      },
      "source": [
        "#plotting histogram to test for normality on bluecars returned\n",
        "sns.distplot(df1.bluecars_returned_sum,bins=10,hist=True,kde=True)\n",
        "plt.title(\"Histogram on BlueCars Returned\",fontsize =16,color = 'green')\n",
        "plt.xlabel(\"Bluecars Returned\",fontsize =14)\n",
        "plt.ylabel(\"The Frequency\",fontsize =14)\n",
        "plt.show()"
      ],
      "execution_count": 60,
      "outputs": [
        {
          "output_type": "display_data",
          "data": {
            "image/png": "[encoded data removed]",
            "text/plain": [
              "<Figure size 432x288 with 1 Axes>"
            ]
          },
          "metadata": {
            "tags": []
          }
        }
      ]
    },
    {
      "cell_type": "markdown",
      "metadata": {
        "id": "6qEwPwsdjxG4",
        "colab_type": "text"
      },
      "source": [
        "It is normally distributed but it is skewed to the right"
      ]
    },
    {
      "cell_type": "code",
      "metadata": {
        "id": "M9avTLWelUal",
        "colab_type": "code",
        "outputId": "1aff4588-7ea9-433e-f05e-21ef1c72f673",
        "colab": {
          "base_uri": "https://localhost:8080/",
          "height": 34
        }
      },
      "source": [
        "#Test for skewness on bluecars returned\n",
        "df1.bluecars_returned_sum.skew()"
      ],
      "execution_count": 61,
      "outputs": [
        {
          "output_type": "execute_result",
          "data": {
            "text/plain": [
              "2.127583599960856"
            ]
          },
          "metadata": {
            "tags": []
          },
          "execution_count": 61
        }
      ]
    },
    {
      "cell_type": "markdown",
      "metadata": {
        "id": "MdDuSUP1lXyU",
        "colab_type": "text"
      },
      "source": [
        "There is evidence of skewnes upto 2.32 on bluecars returned"
      ]
    },
    {
      "cell_type": "code",
      "metadata": {
        "id": "dE6DX9c8kcwp",
        "colab_type": "code",
        "outputId": "3178b441-6f46-4e57-b867-4dc43732bac3",
        "colab": {
          "base_uri": "https://localhost:8080/",
          "height": 301
        }
      },
      "source": [
        "#plotting histogram to test for normality on bluecars taken\n",
        "sns.distplot(df1.bluecars_taken_sum,bins=10,hist=True,kde=True)\n",
        "plt.title(\"Histogram on BlueCars taken\",fontsize =16,color = 'green')\n",
        "plt.xlabel(\"Bluecars Taken\",fontsize =14)\n",
        "plt.ylabel(\"The Frequency\",fontsize =14)\n",
        "plt.show()"
      ],
      "execution_count": 62,
      "outputs": [
        {
          "output_type": "display_data",
          "data": {
            "image/png": "[encoded data removed]",
            "text/plain": [
              "<Figure size 432x288 with 1 Axes>"
            ]
          },
          "metadata": {
            "tags": []
          }
        }
      ]
    },
    {
      "cell_type": "markdown",
      "metadata": {
        "id": "2Wx1c68Xk8wn",
        "colab_type": "text"
      },
      "source": [
        "Bluecars taken are normally distributed but skewed to the right"
      ]
    },
    {
      "cell_type": "code",
      "metadata": {
        "id": "sbXXH3HKkfsk",
        "colab_type": "code",
        "outputId": "a091d699-661c-4eb3-8593-95d52570dbaa",
        "colab": {
          "base_uri": "https://localhost:8080/",
          "height": 34
        }
      },
      "source": [
        "#Test for skewness on bluecars taken\n",
        "df1.bluecars_taken_sum.skew()"
      ],
      "execution_count": 63,
      "outputs": [
        {
          "output_type": "execute_result",
          "data": {
            "text/plain": [
              "2.1250954289684127"
            ]
          },
          "metadata": {
            "tags": []
          },
          "execution_count": 63
        }
      ]
    },
    {
      "cell_type": "markdown",
      "metadata": {
        "id": "Rv2bEcBYkngB",
        "colab_type": "text"
      },
      "source": [
        "There is evidence of skewness upto 2.32 on bluecars taken"
      ]
    },
    {
      "cell_type": "markdown",
      "metadata": {
        "id": "ThcMWUKJmady",
        "colab_type": "text"
      },
      "source": [
        "## Application of ztest"
      ]
    },
    {
      "cell_type": "markdown",
      "metadata": {
        "id": "_Q05hnEdmj3_",
        "colab_type": "text"
      },
      "source": [
        "The assumptions for using ztest are as follows which have been met\n",
        "\n",
        "\n",
        "1.   Test for normality\n",
        "2.   Sample size greater than 30\n",
        "3.   The columns are independent\n",
        "4.   The sample is randomly selected from the population\n",
        "\n",
        "\n"
      ]
    },
    {
      "cell_type": "code",
      "metadata": {
        "id": "jlGWzimlFvWI",
        "colab_type": "code",
        "outputId": "1f1d9fb9-5c6a-413f-ffa3-5ca834d1dedb",
        "colab": {
          "base_uri": "https://localhost:8080/",
          "height": 51
        }
      },
      "source": [
        "#z_test blue cars returned\n",
        "ztest ,pval = weightstats.ztest(df1.bluecars_returned_sum, x2=None, value=156)\n",
        "print(float(pval))\n",
        "if pval<0.05:\n",
        "    print(\"reject null hypothesis\")\n",
        "else:\n",
        "    print(\"accept null hypothesis\")"
      ],
      "execution_count": 64,
      "outputs": [
        {
          "output_type": "stream",
          "text": [
            "2.2063732731427112e-12\n",
            "reject null hypothesis\n"
          ],
          "name": "stdout"
        }
      ]
    },
    {
      "cell_type": "markdown",
      "metadata": {
        "id": "Bsxvj22C9PkF",
        "colab_type": "text"
      },
      "source": [
        "Therefore the hypothesis is statistically significant"
      ]
    },
    {
      "cell_type": "code",
      "metadata": {
        "id": "arbeHj4V9iF3",
        "colab_type": "code",
        "outputId": "502298f9-6a57-4909-f9aa-995a385a172e",
        "colab": {
          "base_uri": "https://localhost:8080/",
          "height": 51
        }
      },
      "source": [
        "#z_test blue cars taken\n",
        "ztest ,pval = weightstats.ztest(df1.bluecars_taken_sum, x2=None, value=156)\n",
        "print(float(pval))\n",
        "if pval<0.05:\n",
        "    print(\"reject null hypothesis\")\n",
        "else:\n",
        "    print(\"accept null hypothesis\")"
      ],
      "execution_count": 65,
      "outputs": [
        {
          "output_type": "stream",
          "text": [
            "3.4916649985734706e-12\n",
            "reject null hypothesis\n"
          ],
          "name": "stdout"
        }
      ]
    },
    {
      "cell_type": "markdown",
      "metadata": {
        "id": "tyVHf9609sQo",
        "colab_type": "text"
      },
      "source": [
        "Therefore full evidence that our data is statistically significant"
      ]
    },
    {
      "cell_type": "markdown",
      "metadata": {
        "id": "RPexPwX42cUQ",
        "colab_type": "text"
      },
      "source": [
        "# Challenge the Solution"
      ]
    },
    {
      "cell_type": "markdown",
      "metadata": {
        "id": "uXUVmWeJ3jcb",
        "colab_type": "text"
      },
      "source": [
        "## using utilib 14"
      ]
    },
    {
      "cell_type": "code",
      "metadata": {
        "id": "cIabQPIK6cFZ",
        "colab_type": "code",
        "outputId": "d46c29db-1a4b-4616-9853-44ec94cad143",
        "colab": {
          "base_uri": "https://localhost:8080/",
          "height": 51
        }
      },
      "source": [
        "#z_test utilib 14 cars returned\n",
        "ztest ,pval = weightstats.ztest(df1.utilib_14_returned_sum, x2=None, value=156)\n",
        "print(float(pval))\n",
        "if pval<0.05:\n",
        "    print(\"reject null hypothesis\")\n",
        "else:\n",
        "    print(\"accept null hypothesis\")"
      ],
      "execution_count": 66,
      "outputs": [
        {
          "output_type": "stream",
          "text": [
            "0.0\n",
            "reject null hypothesis\n"
          ],
          "name": "stdout"
        }
      ]
    },
    {
      "cell_type": "code",
      "metadata": {
        "id": "tsTgUT6J6cC6",
        "colab_type": "code",
        "outputId": "a24da6a0-8a84-4f64-de4d-641dd9787f6f",
        "colab": {
          "base_uri": "https://localhost:8080/",
          "height": 51
        }
      },
      "source": [
        "#z_test utilib 14 cars taken\n",
        "ztest ,pval = weightstats.ztest(df1.utilib_14_taken_sum, x2=None, value=156)\n",
        "print(float(pval))\n",
        "if pval<0.05:\n",
        "    print(\"reject null hypothesis\")\n",
        "else:\n",
        "    print(\"accept null hypothesis\")"
      ],
      "execution_count": 67,
      "outputs": [
        {
          "output_type": "stream",
          "text": [
            "0.0\n",
            "reject null hypothesis\n"
          ],
          "name": "stdout"
        }
      ]
    },
    {
      "cell_type": "markdown",
      "metadata": {
        "id": "iDi9XTGS3rpu",
        "colab_type": "text"
      },
      "source": [
        "## using utlib"
      ]
    },
    {
      "cell_type": "code",
      "metadata": {
        "id": "Du_zQC7j6b_4",
        "colab_type": "code",
        "outputId": "a5dd64ea-a5e7-4cc2-8b03-c43b9b2572f5",
        "colab": {
          "base_uri": "https://localhost:8080/",
          "height": 51
        }
      },
      "source": [
        "#z_test utilib cars returned\n",
        "ztest ,pval = weightstats.ztest(df1.utilib_returned_sum, x2=None, value=156)\n",
        "print(float(pval))\n",
        "if pval<0.05:\n",
        "    print(\"reject null hypothesis\")\n",
        "else:\n",
        "    print(\"accept null hypothesis\")"
      ],
      "execution_count": 68,
      "outputs": [
        {
          "output_type": "stream",
          "text": [
            "0.0\n",
            "reject null hypothesis\n"
          ],
          "name": "stdout"
        }
      ]
    },
    {
      "cell_type": "code",
      "metadata": {
        "id": "PLFMl70A6b9i",
        "colab_type": "code",
        "outputId": "db131f34-b8d6-4afd-dd30-6935c410aa2f",
        "colab": {
          "base_uri": "https://localhost:8080/",
          "height": 51
        }
      },
      "source": [
        "#z_test utilib cars taken\n",
        "ztest ,pval = weightstats.ztest(df1.utilib_taken_sum, x2=None, value=156)\n",
        "print(float(pval))\n",
        "if pval<0.05:\n",
        "    print(\"reject null hypothesis\")\n",
        "else:\n",
        "    print(\"accept null hypothesis\")"
      ],
      "execution_count": 69,
      "outputs": [
        {
          "output_type": "stream",
          "text": [
            "0.0\n",
            "reject null hypothesis\n"
          ],
          "name": "stdout"
        }
      ]
    },
    {
      "cell_type": "markdown",
      "metadata": {
        "id": "xhavVflf6Dmt",
        "colab_type": "text"
      },
      "source": [
        "It is evident that we have rejected the null hypothesis for taking and returning utilib cars and utilib 14 cars just as we did in blue cars"
      ]
    },
    {
      "cell_type": "markdown",
      "metadata": {
        "id": "W1AfYe5b7ltU",
        "colab_type": "text"
      },
      "source": [
        "# Conclusion"
      ]
    },
    {
      "cell_type": "markdown",
      "metadata": {
        "id": "PW66qGpN7qTA",
        "colab_type": "text"
      },
      "source": [
        "From the above analysis we conclude that usage of bluecars is more on Friday more than Monday"
      ]
    }
  ]
}